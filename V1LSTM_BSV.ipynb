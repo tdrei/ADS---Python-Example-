{
  "nbformat": 4,
  "nbformat_minor": 0,
  "metadata": {
    "kernelspec": {
      "display_name": "Python 3",
      "language": "python",
      "name": "python3"
    },
    "language_info": {
      "codemirror_mode": {
        "name": "ipython",
        "version": 3
      },
      "file_extension": ".py",
      "mimetype": "text/x-python",
      "name": "python",
      "nbconvert_exporter": "python",
      "pygments_lexer": "ipython3",
      "version": "3.7.6"
    },
    "colab": {
      "name": "V1LSTM_BSV.ipynb",
      "provenance": [],
      "toc_visible": true,
      "include_colab_link": true
    }
  },
  "cells": [
    {
      "cell_type": "markdown",
      "metadata": {
        "id": "view-in-github",
        "colab_type": "text"
      },
      "source": [
        "<a href=\"https://colab.research.google.com/github/tdrei/ADS---Python-Example-/blob/master/V1LSTM_BSV.ipynb\" target=\"_parent\"><img src=\"https://colab.research.google.com/assets/colab-badge.svg\" alt=\"Open In Colab\"/></a>"
      ]
    },
    {
      "cell_type": "code",
      "metadata": {
        "id": "zkJ9fR5bP2gt",
        "colab_type": "code",
        "colab": {}
      },
      "source": [
        "#https://medium.com/@djajafer/multi-class-text-classification-with-keras-and-lstm-4c5525bef592\n",
        "import csv\n",
        "import tensorflow as tf\n",
        "import numpy as np\n",
        "from tensorflow.keras.preprocessing.text import Tokenizer\n",
        "from tensorflow.keras.preprocessing.sequence import pad_sequences\n",
        "from tensorflow.keras.models import Sequential\n",
        "from tensorflow.keras.layers import Dense, Flatten, LSTM, Dropout, Activation, Embedding, Bidirectional\n"
      ],
      "execution_count": 2,
      "outputs": []
    },
    {
      "cell_type": "code",
      "metadata": {
        "id": "NcxHMu2EQkjY",
        "colab_type": "code",
        "colab": {}
      },
      "source": [
        "import pandas as pd"
      ],
      "execution_count": 3,
      "outputs": []
    },
    {
      "cell_type": "code",
      "metadata": {
        "id": "6J6zrG1sQots",
        "colab_type": "code",
        "colab": {
          "resources": {
            "http://localhost:8080/nbextensions/google.colab/files.js": {
              "data": "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",
              "ok": true,
              "headers": [
                [
                  "content-type",
                  "application/javascript"
                ]
              ],
              "status": 200,
              "status_text": ""
            }
          },
          "base_uri": "https://localhost:8080/",
          "height": 72
        },
        "outputId": "194e3c46-f55e-4a86-aafa-cf778f9e1f52"
      },
      "source": [
        "from google.colab import files\n",
        "data_to_load = files.upload()"
      ],
      "execution_count": 4,
      "outputs": [
        {
          "output_type": "display_data",
          "data": {
            "text/html": [
              "\n",
              "     <input type=\"file\" id=\"files-895ebd3e-ab74-4bad-830f-1a59aa8afcf3\" name=\"files[]\" multiple disabled\n",
              "        style=\"border:none\" />\n",
              "     <output id=\"result-895ebd3e-ab74-4bad-830f-1a59aa8afcf3\">\n",
              "      Upload widget is only available when the cell has been executed in the\n",
              "      current browser session. Please rerun this cell to enable.\n",
              "      </output>\n",
              "      <script src=\"/nbextensions/google.colab/files.js\"></script> "
            ],
            "text/plain": [
              "<IPython.core.display.HTML object>"
            ]
          },
          "metadata": {
            "tags": []
          }
        },
        {
          "output_type": "stream",
          "text": [
            "Saving Sentiment BSV.xlsx to Sentiment BSV.xlsx\n"
          ],
          "name": "stdout"
        }
      ]
    },
    {
      "cell_type": "code",
      "metadata": {
        "id": "pc90qebRP2gy",
        "colab_type": "code",
        "colab": {}
      },
      "source": [
        "import pandas as pd\n",
        "df = pd.read_excel('Sentiment BSV.xlsx', encoding='latin-1', error_bad_lines=False, header=0)"
      ],
      "execution_count": 5,
      "outputs": []
    },
    {
      "cell_type": "markdown",
      "metadata": {
        "id": "na64JMjaQMFl",
        "colab_type": "text"
      },
      "source": [
        "# Neuer Abschnitt"
      ]
    },
    {
      "cell_type": "code",
      "metadata": {
        "id": "KPykcFexP2g0",
        "colab_type": "code",
        "colab": {
          "base_uri": "https://localhost:8080/",
          "height": 34
        },
        "outputId": "5049592c-dcc6-4cf0-eb98-fa860a69a599"
      },
      "source": [
        "df.shape"
      ],
      "execution_count": 6,
      "outputs": [
        {
          "output_type": "execute_result",
          "data": {
            "text/plain": [
              "(107, 3)"
            ]
          },
          "metadata": {
            "tags": []
          },
          "execution_count": 6
        }
      ]
    },
    {
      "cell_type": "code",
      "metadata": {
        "id": "4-SeLLNDP2g3",
        "colab_type": "code",
        "colab": {
          "base_uri": "https://localhost:8080/",
          "height": 51
        },
        "outputId": "49e5a79c-41bc-4ae5-d5f3-117e85621ce0"
      },
      "source": [
        "import nltk\n",
        "nltk.download('stopwords')\n",
        "from nltk.corpus import stopwords\n",
        "STOPWORDS = set(stopwords.words('german'))"
      ],
      "execution_count": 7,
      "outputs": [
        {
          "output_type": "stream",
          "text": [
            "[nltk_data] Downloading package stopwords to /root/nltk_data...\n",
            "[nltk_data]   Unzipping corpora/stopwords.zip.\n"
          ],
          "name": "stdout"
        }
      ]
    },
    {
      "cell_type": "code",
      "metadata": {
        "id": "PnRbwt3qP2g6",
        "colab_type": "code",
        "colab": {}
      },
      "source": [
        "vocab_size = 5000 # make the top list of words (common words)\n",
        "embedding_dim = 64\n",
        "max_length = 200\n",
        "trunc_type = 'post'\n",
        "padding_type = 'post'\n",
        "oov_tok = '<OOV>' # OOV = Out of Vocabulary\n",
        "training_portion = .8"
      ],
      "execution_count": 8,
      "outputs": []
    },
    {
      "cell_type": "code",
      "metadata": {
        "id": "bvaqcOr2P2g8",
        "colab_type": "code",
        "colab": {}
      },
      "source": [
        "articles = []\n",
        "labels = []"
      ],
      "execution_count": 9,
      "outputs": []
    },
    {
      "cell_type": "code",
      "metadata": {
        "id": "35XWXTRjP2g_",
        "colab_type": "code",
        "colab": {}
      },
      "source": [
        "articles = df['Text'].to_dict()"
      ],
      "execution_count": 10,
      "outputs": []
    },
    {
      "cell_type": "code",
      "metadata": {
        "id": "kMWXBbBsP2hC",
        "colab_type": "code",
        "colab": {}
      },
      "source": [
        "labels = df['Label'].to_dict()"
      ],
      "execution_count": 11,
      "outputs": []
    },
    {
      "cell_type": "code",
      "metadata": {
        "id": "rOIk0OXqP2hE",
        "colab_type": "code",
        "colab": {
          "base_uri": "https://localhost:8080/",
          "height": 54
        },
        "outputId": "33643d1c-5c84-49d8-9fcc-81668680d150"
      },
      "source": [
        "print(articles)"
      ],
      "execution_count": 12,
      "outputs": [
        {
          "output_type": "stream",
          "text": [
            "{0: '\"Ohne diese Beurteilung einzuschränken, weisen wir auf die Ausführungen im Anhang und im Lagebericht zum Insolvenzverfahren unter Anordnung der Eigenverwaltung hin. Im Anhang ist im Abschnitt \"Allgemeine Angaben\" und im Lagebericht ist im Abschnitt \"Geschäft, Gesamtwirtschaft und Branchenentwicklung\" ausgeführt, dass das Insolvenzverfahren unter Anordnung der Eigenverwaltung über das Vermögen der Gesellschaft am 01.03.2016 eröffnet wurde. Die Gläubigerversammlung, der Sachwalter, die Geschäftsführung und die Gesellschafter der Gesellschafterin haben am 12.05.2016 beschlossen, das Unternehmen fortzuführen und den Geschäftsbetrieb aufrecht zu erhalten. Der Insolvenzplan geht von der Erhaltung und Fortführung des Unternehmens aus. Das Amtsgericht Kempten – Insolvenzgericht - hat mit Beschluss vom 24.01.2017 den Insolvenzplan bestätigt. Die Auszahlung der Insolvenzquote an die Insolvenzgläubiger ist erfolgt. Das Amtsgericht Kempten -Insolvenzgericht- hat am 26.04.2017 beschlossen, dass das Verfahren nach rechtskräftiger Bestätigung des Insolvenzplans aufgehoben und die Gesellschaft fortgeführt wird. Die weitere Finanzierung der Gesellschaft durch die Banken wurde zugesagt. Durch den Schuldenerlass aufgrund des rechtskräftig bestätigten Insolvenzplans wurde ein hoher Sanierungsgewinn im Geschäftsjahr vom 01.03.2016 bis 28.02.2017 erzielt, wodurch wieder ein positives Eigenkapital ausgewiesen wird.\"', 1: '\"Pflichtgemäß weisen wir darauf hin, dass der Bestand der Gesellschaft durch Risiken bedroht ist, die in Abschnitt „E.2. Risikobericht“ des Lageberichts dargestellt sind. Dort ist aufgeführt, dass die Gesellschaft von der Finanzierung im Konzern abhängig ist und der Bankpartner der Gruppe auf die Einhaltung von vorgegebenen Kennzahlen bis zur Meldung der Kennzahlen für 2017 Ende Mai 2018 verzichtet hat. Der mittelfristige Bestand der Gesellschaft hängt von der erfolgreichen Umsetzung der in 2017 und 2018 durchzuführenden Maßnahmen zur Steigerung der operativen Effizienz ab. Dadurch sollen die vorgegebenen finanziellen Kennzahlen wieder eingehalten werden und die bestehende Finanzierung auch nach dem 31. Mai 2018 fortbestehen.\"', 2: '\"Ohne diese Beurteilung einzuschränken, verweisen wir auf die Darstellungen im Lagebericht und im Nachtragsbericht im Anhang. Dort ist dargestellt, dass die Finanzierung des Unternehmens durch die derzeitig vereinbarte Liquiditätsausstattung, bei Eintritt der Planungsannahmen, der Erfüllung weiterer Auflagen und der begleitenden Neuausrichtung der Gesellschaft, für den nächsten Betrachtungsraum als gesichert anzunehmen ist. Die geplante Neuaufstellung der Finanzierung der TETENAL-Gruppe ist abhängig von der weiteren Begleitung durch die gegenwärtig finanzierenden Banken über den 31. Dezember 2017 hinaus, was insoweit bereits zumindest bis zum Ende des ersten Quartals 2018 bzw. darüber hinaus bis zur Erfüllung der Auflagen signalisiert wurde, soweit bis dahin noch keine neue Finanzierungsstruktur umgesetzt werden konnte.\"', 3: '\"Ohne diese Beurteilung einzuschränken, weise ich darauf hin, dass im Jahresabschluss zum 31.12.2016 eine buchmäßige Überschuldung vorliegt. Die Liquiditäts- und Ergebnisplanung für das Jahr 2017 zeigt jedoch, dass von einer Fortführung der Unternehmenstätigkeit ausgegangen werden kann. Ich verweise hier auch auf die Angaben im Lagebericht unter Punkt 5. „Risiko- & Chancenbericht“. Dort ist ausgeführt, dass eine bilanzielle Überschuldung besteht, die jedoch durch das Vorliegen einer positiven Fortführungsprognose über das Jahr 2017 hinaus nicht zu einer insolvenzrechtlichen Überschuldung im Sinne des § 19 InsO führt.\"', 4: '\"Ohne diese Beurteilung einzuschränken, weisen wir auf die Ausführungen der Gesellschaft im Lagebericht hin. Dort wird im Risikobericht darauf hingewiesen, dass die Gesellschaft nach der Kündigung des Cash-Pooling-Vertrags mit der Muttergesellschaft zum 31. März 2016 auf eine selbständige Finanzierung ihrer Geschäftstätigkeit angewiesen ist. Sollte die aktuelle, bis Ende 2018 reichende Liquiditätsplanung insgesamt deutlich unterschritten werden, ist die Gesellschaft auf eine weitere Finanzierung angewiesen. Sofern es in diesem Fall nicht gelingt, weitere Liquidität zu generieren, ist der Bestand der Gesellschaft gefährdet.\"', 5: '\"Pflichtgemäß weisen wir darauf hin, dass der Bestand der Gesellschaft durch Risiken bedroht ist, die im Abschnitt „Finanzwirtschaftliche Risiken“ des zusammengefassten Lageberichts dargestellt sind. Dort ist ausgeführt, dass der Fortbestand der Gesellschaft von der unveränderten Aufrechterhaltung der finanziellen Unterstützung durch die Konzernobergesellschaft abhängig ist.\"', 6: '\"Ohne diese Beurteilung einzuschränken, weisen wir auf die Ausführungen des Vorstands im Lagebericht hin. Dort wird insbesondere unter Punkt „6.2. Voraussichtliche Geschäftsentwicklung\" ausgeführt, dass die planbaren operativen Erträge in 2017 voraussichtlich zur Kostendeckung ausreichen werden, das Geschäftsergebnis jedoch abhängig ist von den Bewertungen der Wertpapiere des Anlagevermögens sowie der Deckungsvermögen der Pensionszusagen. Zur Abwendung negativer Entwicklungen sollen der Gebser & Partner Aktiengesellschaft, Frankfurt am Main, zur Einhaltung der aufsichtsrechtlichen Eigenkapitalausstattung gegebenenfalls durch weitere Kapitalmaßnahmen ausreichende Mittel zugeführt werden.\"', 7: '\"Ohne diese Beurteilung einzuschränken, weisen wir auf die Ausführungen im Lagebericht hin. Dort ist ausgeführt, dass die Gesellschaft über ein negatives Eigenkapital sowie einen negativen Substanzwert verfügt. Die Gesellschaft plant die Reduzierung des Fehlbetrags durch künftige Ertragsüberschüsse. Gegebenenfalls kommt auch die Zuführung weiteren Eigenkapitals (gesichert durch Bürgschaften, Rangrücktritte und Patronatserklärungen der Gesellschafter und Geschäftsführer) in Betracht.\"', 8: 'Ohne diese Beurteilung einzuschränken, weisen wir auf die Ausführungen der Geschäftsführung im Lagebericht hin. Dort wird im Abschnitt D ausgeführt, dass eine in 2013 erfolgte steuerliche Außenprüfung eine Nachforderung an Grunderwerbsteuer von T€ 751 ergeben hat. Der entsprechende Steuerbescheid ist durch Rechtsbehelf angefochten worden. Aussetzung der Vollziehung der Nachforderung ist gewährt worden. Die Finanzierung des im Falle des Unterliegens abzuführenden Betrages ist nicht gesichert. In diesem Sachverhalt sieht die Geschäftsführung ein existenzgefährdendes Risiko für die Gesellschaft.', 9: 'Ohne diese Beurteilung einzuschränken, weisen wir auf die Ausführungen der Geschäftsführung im Lagebericht hin. Dort wird im Abschnitt D ausgeführt, dass eine in 2013 erfolgte steuerliche Außenprüfung eine Nachforderung an Grunderwerbsteuer von T€ 751 ergeben hat. Der entsprechende Steuerbescheid ist durch Rechtsbehelf angefochten worden. Aussetzung der Vollziehung der fällig gestellten Nachforderung ist erfolgt. Über den Rechtsbehelf wurde bis zum Abschluss meiner Prüfung nicht entschieden. Die Finanzierung des im Falle des Unterliegens abzuführenden Betrages ist nicht gesichert. In diesem 16 Sachverhalt sieht die Geschäftsführung ein existenzgefährdendes Risiko für die Gesellschaft.', 10: 'Ohne diese Beurteilung einzuschränken, verweisen wir auf die Angaben im Abschnitt „A. Allgemeine Angaben“ des Anhangs und im Abschnitt „Chancen- und Risikobericht“ des Lageberichts, in denen die gesetzlichen Vertreter darlegen, dass die Gesellschaft sich in einer angespannten Liquiditätssituation befinden wird, wenn die Umsatz-, Ertrags- und Liquiditätserwartungen nicht wie geplant erreicht werden sollten. Wie im Abschnitt „A. Allgemeine Angaben“ des Anhangs und im Abschnitt „Chancen- und Risikobericht“ des Lageberichts dargelegt, weist dies auf ein bestandsgefährdendes Risiko im Sinne des § 322 Abs. 2 Satz 3 HGB hin.', 11: 'Ohne diese Beurteilung einzuschränken, weisen wir pflichtgemäß auf die Ausführungen im Lagebericht in Abschnitt III.2 „Chancen- und Risikobericht - Liquiditätsrisiken/Bestandsgefährdende Risiken“ hin. Dort wird sinngemäß ausgeführt, dass bestandsgefährdende Risiken bestehen, falls die Neufinanzierung nicht wie geplant umgesetzt werden sollte oder das Engagement des bisherigen Bankenkonsortiums nicht bis zur Bereitstellung der neuen Finanzierung fortgeführt werden sollte.', 12: 'Ohne unsere Beurteilung einzuschränken, weisen wir auf die Ausführungen der Geschäftsführung im Lagebericht unter V. „Chancen und Risikobericht“ hin. Dort ist ausgeführt, dass die bestehende Finanzierung durch einen Multibank-Kreditvertrag über bilaterale Kredite vertraglich am 30. September 2018 endet und für den Fortbestand des Unternehmens darüber hinaus die Aufrechterhaltung der bestehenden Kreditlinien durch die finanzierenden Banken oder die Erschließung einer alternativen Finanzierungsmöglichkeit notwendig ist. Die Geschäftsführung geht auch auf Grund der aktuell positiven Geschäftsentwicklung nicht davon aus, dass eine Liquiditätslücke entstehen wird.', 13: 'Ohne diese Beurteilung einzuschränken, weisen wir auf den Lagebericht hin. Dort steht im Abschnitt „2. Risiken des Unternehmens, Liquiditätsrisiko“, dass ohne weitere Umstrukturierungs- und Investitionsmaßnahmen der Turnaround nicht möglich ist und ohne weitere Gesellschafterhilfen die Zahlungsunfähigkeit droht.', 14: 'Ohne unsere Beurteilung einzuschränken, weisen wir darauf hin, dass wir zum Zeitpunkt der Beendigung unserer Abschlussprüfung die Erfüllung der Voraussetzungen des § 264 Abs. 3 HGB insoweit nicht beurteilen konnten, als diese Voraussetzungen ihrer Art nach erst zu einem späteren Zeitpunkt erfüllbar sind. Die derzeit nicht abschließend beurteilbaren Voraussetzungen betreffen die Einbeziehung in den Konzernabschluss der LTX-Credence (Deutschland) GmbH, Unterföhring, zum 31. Juli 2017, die Aufstellung und Prüfung des Konzernabschlusses und des Konzernlageberichts, die Angabe der Befreiung im Anhang des Konzernabschlusses sowie die Offenlegung des Konzernabschlusses, des Konzernlageberichts und des Bestätigungsvermerks zum Konzernabschluss und Konzernlagebericht des Mutterunternehmens für die Gesellschaft nach § 325 Abs. 1 bis 1b HGB.', 15: 'Ohne diese Beurteilung einzuschränken, weisen wir auf die Ausführungen der gesetzlichen Vertreter der Gesellschaft unter Abschnitt 3.7 im Lagebericht hin. Dort wird ausgeführt, dass die Gesellschaft bei künftigen Planverfehlungen und nach Ausschöpfung der Kreditlinien auf weitere Finanzhilfen der Muttergesellschaft angewiesen ist, ohne die der Fortbestand der Gesellschaft gefährdet ist.', 16: 'Ohne diese Beurteilung einzuschränken weisen wir darauf hin, dass bei Beendigung der Jahresabschlussprüfung die Erfüllung der Voraussetzungen des § 264b Nr. 1 bis 4 HGB von uns nicht beurteilt werden konnte, da diese Voraussetzungen ihrer Art nach erst zu einem späteren Zeitpunkt erfüllbar sind.', 17: 'Ohne diese Beurteilung einzuschränken, weisen wir auf die Ausführungen im Lagebericht hin. Dort ist im Abschnitt „4.2. Risiken“ ausgeführt, dass die Gesellschaft zur Sicherung der künftigen Zahlungsfähigkeit und des Fortbestands der Gesellschaft weiterhin auf die finanzielle Unterstützung der Gesellschafter angewiesen ist.', 18: 'Ohne diese Beurteilung weiter einzuschränken weise ich auf die Ausführungen der Geschäftsführung im Lagebericht hin. Dort wird in Abschnitt 3.1, Risikobericht, ausgeführt, dass bei einer Inanspruchnahme aus der abgegebenen Sicherheit zugunsten der IfAÖ Institut für Angewandte Ökosystemforschung GmbH der Fortbestand der Gesellschaft gefährdet sein kann. Des Weiteren wird dort ausgeführt, dass der Jahresabschluss aufgrund der im Fortführungskonzept beschriebenen positiven Fortführungsprognose unter Berücksichtigung des Grundsatzes der Unternehmensfortführung i.S.d. § 252 Abs. 1 Nr. 2 HGB aufgestellt wurde. Nur unter Erfüllung der im Fortführungskonzept genannten Bedingungen und Maßnahmen kann von einer positiven Fortführungsprognose ausgegangen werden. Gleichwohl ist es meiner Ansicht nach erforderlich, dass der Gesellschaft zur Vermeidung von Liquiditätsengpässen weitere liquide Mittel zugeführt oder eine Tilgungsstreckung der bestehenden Bankdarlehen vereinbart werden. Abschließend weise ich darauf hin, dass der Fortbestand der Gesellschaft von dem Eintritt der zugrunde liegenden Annahmen sowie der kontinuierlichen Überwachung und Fortschreibung des Konzepts durch die Geschäftsführung abhängig ist.', 19: 'Ohne diese Beurteilung einzuschränken, weisen wir auf die Ausführungen im Lagebericht hin. Dort ist in Abschnitt 5. unter \"Liquiditäts- und Finanzierungsrisiko\" ausgeführt, dass die Zahlungsfähigkeit der Gesellschaft auf der Grundlage der Cashflow Planung unter Berücksichtigung von geplanten, laufenden und bereits geschlossenen Finanzierungsverhandlungen angenommen wird. Der Fortbestand der Movinga GmbH, Berlin, hängt somit neben dem Eintritt der geplanten Cashflows aus der laufenden Geschäftstätigkeit vom erfolgreichen Abschluss geplanter und laufender Finanzierungsverhandlungen ab.', 20: 'Ohne diese Beurteilung einzuschränken, weisen wir auf Abschnitt C. des Lageberichts hin. Dort wird durch die gesetzlichen Vertreter ausgeführt, dass die Gesellschaft gemäß der aktuellen Unternehmens- und Liquiditätsplanung zwar voraussichtlich in der Lage ist, mit den ihr zur Verfügung stehenden liquiden Mitteln, den bestehenden Zahlungsverpflichtungen bis in das dritte Quartal 2019 nachzukommen, aber aufgrund der nachhaltig negativen operativen Zahlungsströme zur Aufrechterhaltung der Zahlungsfähigkeit auf die Finanzierung bzw. Bereitstellung liquider Mittel durch die Gesellschafter oder einen externen Dritten angewiesen ist. Damit wird auf das Bestehen einer wesentlichen Unsicherheit hingewiesen, die bedeutsame Zweifel an der Fähigkeit der Gesellschaft zur Fortführung der Unternehmenstätigkeit aufwerfen kann und ein bestandsgefährdendes Risiko im Sinne des § 322 Abs. 2 Satz 3 HGB darstellt.', 21: 'Ohne diese Beurteilung einzuschränken weisen wir pflichtgemäß darauf hin, dass der mittelund langfristige Fortbestand der Gesellschaft durch Risiken bedroht ist, die im Lagebericht dargestellt sind. Dort ist ausgeführt, dass der Fortbestand der Gesellschaft von der weiteren finanziellen Unterstützung durch die Gesellschafterin abhängig ist.', 22: 'Ohne unsere Bestätigung einzuschränken, weisen wir auf die von der Gesellschaft im Anhang und im Lagebericht erläuterten Unsicherheiten bei der Bewertung der Rückstellung nach dem Atomrecht hin. Die Rückstellung nach dem Atomrecht und die korrespondierende Finanzierungszusage sind nur begrenzt planbar.', 23: 'Ohne diese Beurteilung einzuschränken, weisen wir pflichtgemäß auf die Ausführungen der gesetzlichen Vertreter im Lagebericht zur Unternehmensfortführung hin. Dort ist im Abschnitt \"Risiko- und Prognosebericht\" ausgeführt, dass der Fortbestand der Gesellschaft bedroht ist, wenn der beabsichtigte Forderungsverzicht nicht realisiert wird.', 24: 'Diese Bestätigung erteilen wir aufgrund der durch die Weilep Graf von Westphalen Busch GmbH Wirtschaftsprüfungsgesellschaft pflichtgemäß durchgeführten und am 15. Februar 2017 mit einem uneingeschränkten Bestätigungsvermerk abgeschlossenen Abschlussprüfung sowie der von uns als Nachtragsprüfer pflichtgemäß durchgeführten und am 20. Dezember 2017 abgeschlossenen Nachtragsprüfung. Die Nachtragsprüfung bezog sich auf die Änderung von Wertansätzen im Anlage- und im Umlaufvermögen, bei den sonstigen Rückstellungen und den passiven latenten Steuern, den aus diesen Korrekturen folgenden Änderungen des Anhangs sowie der vollständigen Neufassung des Lageberichts. Auf die Begründung der Änderungen durch die Gesellschaft im Abschnitt III im geänderten Anhang wird verwiesen. Die Nachtragsprüfung hat zu keinen Einwendungen geführt', 25: 'Diesen Bestätigungsvermerk erteilen wir aufgrund unserer pflichtgemäßen, am 27. Februar 2017 abgeschlossenen Abschlussprüfung und unserer am 20. Juli 2018 abgeschlossenen Nachtragsprüfung, die sich auf die Anwendung der handelsrechtlichen Vorschriften für Kapitalgesellschaften sowie den nachträglich erstellten Anhang und den nachträglich erstellten Lagebericht bezog. Auf die Begründung der Änderung durch die Gesellschaft im Anhang, Abschnitt „I. Allgemeine Angaben und Erläuterungen zum Jahresabschluss“ und im Lagebericht, Abschnitt „Grundlagen der Gesellschaft“ wird verwiesen. Die Nachtragsprüfung hat zu keinen Einwendungen geführt.', 26: 'Diese Bestätigung erteilen wir aufgrund unserer Abschlussprüfung vom 1. März 2018 und unserer Nachtragsprüfung, die sich auf die Änderung der Atomrückstellung und der korrespondierenden Finanzierungszusage bezieht. Die Nachtragsprüfung hat zu keinen Einwendungen geführt.', 27: 'Ohne diese Beurteilung einzuschränken weisen wir pflichtgemäß auf die Ausführungen im Konzernlagebericht unter dem Abschnitt in Tz. 5. \"Risiken der künftigen Entwicklung\" hin. Dort wird ausgeführt, dass Basis für den Fortbestand des Konzerns die planmäßige Umsetzung der vorgesehenen Restrukturierungsmaßnahmen ist und für den Konzern Zahlungsunfähigkeit eintreten würde, wenn während der bis Ende 2019 abgeschlossenen Standstill-Vereinbarungen die für den laufenden Geschäftsbetrieb erforderlichen liquiden Mittel nicht erwirtschaftet werden können. Zudem ist es notwendig, dass beim Auslaufen der Standstill-Vereinbarungen die erforderlichen Finanzierungsspielräume erschlossen werden können, um so den dann notwendigen Finanzierungsbedarf abdecken zu können.', 28: 'Ohne diese Beurteilung einzuschränken weisen wir auf die Ausführungen im Konzernlagebericht hin. Dort ist im Abschnitt 4 ausgeführt, dass der Fortbestand des Konzerns aufgrund der angespannten Liquiditätslage bedroht ist, wenn die bis auf Weiteres zur Verfügung gestellten Kreditlinien der Bestandsbanken kurzfristig fällig gestellt oder die Planziele verfehlt werden würden.', 29: 'Ohne diese Beurteilung einzuschränken, weisen wir auf die Ausführungen der Gesellschaft im Lagebericht hin. Dort ist in Abschnitt Rechtliche Risiken ausgeführt, dass die aktuelle rechtliche Situation aufgrund von bestehenden Rechtsstreitigkeiten hinsichtlich vorhandener Patentstreitigkeiten geprägt ist. Aufgrund eines ergangenen Urteils wird die Verletzung von Patentrechten seitens der Tochtergesellschaft LIPtec GmbH festgestellt. Die Auswirkungen hieraus können aufgrund der bisher nicht vorhandenen Rechtskraft des Urteils nicht abschließend beurteilt werden. Im Berufungsverfahren wurde der Argumentation betreffend der Nichtverletzung insoweit vorläufig stattgegeben, dass die Einstellung der Vollstreckung bis zur Entscheidung des Oberlandesgerichts Düsseldorf im Hauptsacheverfahren erfolgt. Die voraussichtlichen Kosten des Rechtsstreites sind - soweit aus heutiger Sicht ersichtlich - im vorliegenden Abschluss berücksichtigt. Die Entwicklung des Rechtsstreits stellt aus heutiger Sicht keine Bestandsgefährdung für den Glatz Konzern dar.', 30: 'Ohne diese Beurteilung einzuschränken, weisen wir auf die Ausführungen der Geschäftsführung im Konzernlagebericht hin, wonach im Konzern zwar gemäß Planungsrechnung für die Geschäftsjahre 2017 und 2018 aus dem eigenen operativen Cash Flow, der Refinanzierung innerhalb der Gruppe sowie weiteren Finanzierungsbeiträgen und Einzahlungen seitens des Gesellschafters ausreichend Liquidität verfügbar ist, die interne Refinanzierungsmöglichkeit aber voraussetzt, dass die der gruppenweiten Liquiditätsplanung zugrundeliegenden Prämissen für die einzelnen Geschäftsbereiche eintreten. Sollte die finanzielle Unterstützung seitens des Gesellschafters, zu der dieser nicht verpflichtet ist, nicht in dem unterstellten Maße erfolgen, ist der Konzern für seinen Fortbestand darauf angewiesen, vermehrt Vermögensgegenstände, insbesondere Immobilien, zu veräußern. Aus heutiger Sicht sind nach Auffassung der Geschäftsführung ausreichend veräußerungsfähige Immobilien vorhanden, um den Liquiditätsbedarf bis Ende des Geschäftsjahres 2018 zu decken. Darüber hinaus weist die Geschäftsführung im Konzernlagebericht auf Risiken hin, die für einzelne Unternehmen oder den Konzern bestandsgefährdend sein können. Der Buss Group-Konzern steht weiterhin Herausforderungen gegenüber, die sich aus dem anhaltend schwachen Schifffahrtsumfeld und der daraus folgenden angespannten Liquiditätssituation ergeben sowie aus den an Schiffsfinanzierungen und Verbindlichkeiten im Geschäftsbereich Ports geknüpften Garantien. Die Buss Group GmbH & Co. KG hat im Geschäftsjahr 2016 Restrukturierungsmaßnahmen ergriffen, die die Fortführung des Konzerns sichern sollen. Nach Ansicht der Geschäftsführung sind sämtliche Risiken, die den Fortbestand einzelner Gesellschaften oder des Konzerns gefährden können, durch Umsetzung geeigneter Maßnahmen, insbesondere durchgeführte Gläubigerverhandlungen, in ihrer Wahrscheinlichkeit als gering einzuschätzen. Sollten einzelne oder mehrere der Risiken, die sich aus der angespannten Liquiditätssituation der Schifffahrtsgesellschaften sowie aus den an Schiffsfinanzierungen und Verpflichtungen im Geschäftsbereich Ports geknüpften Garantien resultieren, dennoch eintreten, wäre der Fortbestand einzelner Konzerngesellschaften oder des Konzerns von der Bereitstellung weiterer finanzieller Mittel durch den Gesellschafter bzw. andere Kapitalgeber abhängig.', 31: 'Ohne diese Beurteilung einzuschränken, weisen wir auf die Ausführungen des Konzerns im Konzernlagebericht hin. Der Konzern hat in der Vergangenheit kontinuierlich rückläufige Umsatzerlöse erfahren und verfügt daher nicht über einen stabilen Zufluss aus liquiden Mitteln aus operativem Geschäft. Die Fortführung der Unternehmenstätigkeit des Konzerns ist insoweit davon abhängig, dass es gelingt, die im Rahmen der Planung erwarteten Verluste zu halten und innerhalb der nächsten zwei Jahre den Turn-Around zu erreichen, andernfalls durch Fremd- oder Innenfinanzierung ausreichende Zahlungsmittel zur Deckung der entstandenen Verluste zu erhalten oder dass die Gesellschafter finanzielle Unterstützung und Versorgung mit liquiden Mitteln leisten.', 32: 'Ohne diese Beurteilung einzuschränken, weisen wir auf die Ausführungen im Konzernlagebericht hin. Dort ist in Abschnitt III. Chancen- und Risikobericht ausgeführt, dass die Unternehmensfortführung davon abhängig ist, dass die Finanzierung und Unterstützung durch die Gesellschafterin auch künftig aufrechterhalten wird.', 33: 'Ohne diese Beurteilung einzuschränken, verweisen wir auf die Darstellungen im KonzernLagebericht und im Nachtragsbericht im Konzernanhang. Dort wird u. a. darauf verwiesen, dass die Finanzierung des Mutterunternehmens durch die derzeitig vereinbarte Liquiditätsausstattung, bei Eintritt der Planungsannahmen und weiterer Neuausrichtung des Konzerns für den nächsten Betrachtungsraum als gesichert anzunehmen ist. Die geplante Neuaufstellung der Finanzierung der TETENAL-Gruppe ist abhängig von der weiteren Begleitung durch die gegenwärtig finanzierenden Banken über den 31. Dezember 2017 hinaus, was insoweit bereits zumindest bis zum Ende des ersten Quartals 2018 und darüber hinaus signalisiert wurde, soweit bis dahin noch keine neue Finanzierungsstruktur umgesetzt werden konnte und die Bankenauflagen weiterhin umgesetzt werden', 34: 'Ohne diese Beurteilung einzuschränken, weisen wir auf die von der Geschäftsführung im Konzernlagebericht dargestellten Sachverhalte hin, wonach sich die MUSTANG GmbH und deren Tochtergesellschaften in einer angespannten Finanzlage und in der Restrukturierung befinden. Ein im Oktober 2016 erstelltes Restrukturierungsgutachten für die MUSTANGUnternehmensgruppe geht von einer positiven Fortführungsprognose aus, sofern verschiedene strategische, betriebswirtschaftliche und organisatorische Maßnahmen umgesetzt werden sowie die MUSTANG-Unternehmensgruppe eine neue zumindest bis Ende 2019 befristete Finanzierungsstruktur erhält. Die Finanzierungsmaßnahmen wurden Ende Dezember 2016 vereinbart. Negative Planabweichungen waren im bisherigen Verlauf des Geschäftsjahres 2017 beim Working Capital zu verzeichnen. Der hierdurch hervorgerufene zusätzliche Liquiditätsbedarf wurde durch eine Ausweitung der Lieferantenfinanzierung abgedeckt. Der Fortbestand der MUSTANG GmbH und deren Tochtergesellschaften hängt davon ab, dass die im Restrukturierungsplan genannten Maßnahmen vollständig umgesetzt werden und die Restrukturierungsmaßnahmen zu den geplanten Ergebnisverbesserungen führen. Zur Vermeidung einer insolvenzrechtlichen Überschuldung bestehen von Seiten der Gesellschafterin, deren Gesellschaftern und den früheren Gesellschaftern Rangrücktritte über insgesamt 33,8 Mio. EUR.', 35: 'Ohne diese Beurteilung einzuschränken, weisen wir auf die Ausführungen der Geschäftsführung zu bestandsgefährdenden Risiken des Konzerns im Konzernlagebericht hin. Dort wird in Abschnitt „Chancen und Risiken der zukünftigen Entwicklung\" ausgeführt, dass der Jahresabschluss unter der Annahme aufgestellt wurde, dass auch nach der Zusammenlegung der Geschäftsaktivitäten mit der McDermott Gruppe im Jahre 2018 die Finanzierung auch zukünftig über den Cashpool bei der niederländischen Teilgruppe unverändert zur Verfügung stehen wird. Die Geschäftsführung erwartet im Zuge der Zusammenlegung mit der McDermott Gruppe keine außerplanmäßige Rückforderung aus dem Cashpool. Eine außerplanmäßige Rückforderung würde eine Zwischenfinanzierung erfordern, um den Fortbestand der Gesellschaft nicht zu gefährden.', 36: 'Ohne diese Beurteilung einzuschränken, weisen wir auf die Ausführungen im Lagebericht hin. Dort ist im Abschnitt „Prognose 2017“ - der auf die voraussichtliche Entwicklung der Gruppe eingeht - aufgeführt, dass der Fortbestand des Konzerns von der erfolgreichen Umsetzung der in der Planung enthaltenen Prämissen abhängig ist, insbesondere von der Aufrechterhaltung der Kreditlinien durch die kreditgewährende Bank und der Aufrechterhaltung der nachrangigen Gesellschafterdarlehen sowie der Finanzierungszusage des Mutterunternehmens gegenüber den Tochtergesellschaften. Im Einzelnen verweisen wir auf die Erläuterungen der Geschäftsführung im Konzernanhang und Konzernlagebericht.', 37: 'Ohne diese Beurteilung einzuschränken, weisen wir auf die Ausführungen im Lagebericht hin. Dort ist dargestellt, dass der Konzern in Höhe von TEUR 17.621 bilanziell überschuldet ist und dass zur Abwendung der insolvenzrechtlichen Überschuldung und der Zahlungsunfähigkeit einer Tochtergesellschaft von der Muttergesellschaft des Konzerns eine Patronatserklärung vorliegt und dass diese Gesellschaft weiterhin auf Unterstützung des Konzerns angewiesen ist', 38: 'Ohne diese Beurteilung einzuschränken, weisen wir auf die Ausführungen im Konzernlagebericht unter „3.1. Prognosebericht\" hin. Dort wird ausgeführt, dass es wegen der derzeit ungewissen Situation des Kaiser\\'s Tengelmann Konzerns nicht auszuschließen ist, dass der Fortbestand des Konzerns von der Aufrechterhaltung der Finanzierung und einer Verlustübernahme durch die neuen Gesellschafter abhängig ist.', 39: 'Ohne diese Beurteilung einzuschränken, weisen wir auf unsere Ausführungen der Geschäftsführung in Abschnitt 4. des Lageberichts zu den bestandsgefährdenden Tatsachen hin, wonach der Fortbestand der Gesellschaft abhängig ist von dem Ausgang der Kartellverfahren bei der Unterweser Reederei GmbH, Bremen. Zwar konnten die Anteile am 15. Februar 2017 an die spanische BOLUDA CORPORACIÓN MARETIMA S.L., Madrid, Spanien, veräußert werden, die Risiken aus den Kartellverfahren verbleiben allerdings bei der Muttergesellschaft. Die Geschäftsführung von LINNHOFF Schifffahrt GmbH & Co. KG, Buxtehude, geht nach wie vor davon aus, dass keine Bußgelder festgesetzt werden.', 40: 'Ohne diese Beurteilung einzuschränken, weisen wir auf unsere Ausführungen der Geschäftsführung in Abschnitt 4. des Lageberichts zu den bestandsgefährdenden Tatsachen hin, wonach der Fortbestand der Gesellschaft abhängig ist von dem Ausgang der Kartellverfahren bei der Unterweser Reederei GmbH, Bremen. Zwar konnten die Anteile am 15. Februar 2017 an die spanische BOLUDA CORPORACIÓN MARETIMA S.L., Madrid, Spanien, veräußert werden, die Risiken aus den Kartellverfahren verbleiben allerdings bei der Muttergesellschaft. Die Geschäftsführung von LINNHOFF Schifffahrt GmbH & Co. KG, Buxtehude, geht nach wie vor davon aus, dass keine Bußgelder festgesetzt werden.', 41: 'Ohne diese Beurteilung einzuschränken, weisen wir auf die Ausführungen im Konzernlagebericht hin. Dort ist in Abschnitt „III.1. Risikobericht, Risikoeinschätzung“ ausgeführt, dass die Finanzierung der ROESER-Gruppe davon abhängig ist, dass die Prämissen der Unternehmensplanung eintreffen und die mit den Banken vereinbarten Covenants bzw. die Bedingungen in den Kreditverträgen eingehalten werden oder alternativ die zur Fortführung der Unternehmensgruppe notwendigen Mittel von dritter Seite oder dem Gesellschafter zur Verfügung gestellt werden. Sollten die notwendigen Mittel für die Unternehmensgruppe nicht bereitgestellt werden, wäre die ROESER-Gruppe in ihrem Fortbestand gefährdet.', 42: 'Ohne diese Beurteilung einzuschränken, weisen wir auf die Ausführungen der Geschäftsführung im Konzernlagebericht hin. Dort ist unter C. 2. ausgeführt, dass der Konzern eine deutlich negative Liquidität auf kurze Sicht und eine Unterdeckung des langfristigen Vermögens durch langfristiges Kapital aufweist. Nach der aktuellen Wirtschaftsund Finanzplanung ist die Zahlungsfähigkeit des Konzerns zumindest bis Ende des Geschäftsjahres 2018 sichergestellt. Hierbei geht die Geschäftsführung von einer erfolgreichen Umsetzung der eingeleiteten Konsolidierungsmaßnahmen aus.', 43: 'Ohne diese Beurteilung einzuschränken, weisen wir auf die Ausführungen im Konzernlagebericht hin. Dort ist im Abschnitt „Chancen- und Risikobericht\" ausgeführt, dass der Konzern in der Vergangenheit kontinuierlich rückläufige Umsatzerlöse erfahren hat und daher nicht über einen stabilen Zufluss aus liquiden Mitteln aus operativem Geschäft verfügt. Die Fortführung der Unternehmenstätigkeit des Konzerns ist insoweit davon abhängig, dass es gelingt, die Verluste im Rahmen der Planung zu halten und mittelfristig innerhalb der nächsten Jahre den Turn-Around zu erreichen, andernfalls durch Fremd- oder Innenfinanzierung ausreichende Zahlungsmittel zur Deckung der entstandenen Verluste zu erhalten oder dass die Gesellschafter finanzielle Unterstützung und Versorgung mit liquiden Mitteln leisten.', 44: 'Ohne diese Beurteilung einzuschränken weisen wir auf die Ausführungen der gesetzlichen Vertreter im Lagebericht hin. Dort wird im Abschnitt 3 \"Chancen und Risikobericht, Liquiditäts-/Finanzierungsrisiko\" ausgeführt, dass die Gesellschaft sich nach wie vor in einer angespannten Ertragslage befindet. Auf Basis einer Ertrags- und Liquiditätsplanung der Geschäftsführung geht diese jedoch davon aus, dass eine Fortführung des Unternehmens nach den derzeitigen Umständen als überwiegend wahrscheinlich anzusehen ist. Sollten jedoch geplante Umsätze und damit verbundene Zahlungsmittelzuflüsse später als erwartet realisiert werden oder gar ausbleiben oder sollten kurzfristig gewährte Betriebsmittelkreditlinien nicht verlängert werden, würde der Fortbestand der Gesellschaft davon abhängen, dass der Hobbico Deutschland Holding Gruppe von Gesellschaftern oder Dritten ausreichende finanzielle Mittel zur Verfügung gestellt werden.', 45: 'Ohne diese Beurteilung einzuschränken, weisen wir auf die Ausführungen der gesetzlichen Vertreter des Mutterunternehmens im Konzernlagebericht hin. Dort ist im Abschnitt \"Chancen- und Risikobericht\" ausgeführt, dass der Fortbestand der odelo-Gruppe mithin von der Bereitstellung der erforderlichen finanziellen Mittel bzw. der Stellung weiterer Sicherheiten durch die Gesellschafterin der odelo GmbH bzw. zu dieser nahestehenden Personen abhängig ist.', 46: 'Ohne diese Beurteilung weiter einzuschränken weisen wir auf Folgendes hin: Wir verweisen auf die Ausführungen der Geschäftsführung zur Fortführung der Unternehmenstätigkeit nach § 252 Abs. 1 Nr. 2 HGB im Anhang.', 47: 'Ohne diese Beurteilung einzuschränken weisen wir auf die Ausführungen der Gesellschaft im Konzernlagebericht hin, dass der Fortbestand der Gesellschaft von der Prolongation der bis zum 31. Dezember 2018 befristeten Bankenfinanzierung und der erfolgreichen Fortsetzung der eingeleiteten Restrukturierungsmaßnahmen abhängig ist, wobei die Prämissen der Unternehmensplanung hinsichtlich der Umsatz- und Ertragsziele eintreten müssen.', 48: 'Versagungsvermerk gemäß § 322 Abs. 2 Satz 1 Nr. 4 HGB i.V.m. § 322 Abs. 5 HGB des\\nAbschlussprüfers zum Konzernabschluss und Konzernlagebericht der JKW\\nVermögensverwaltungs GmbH zum 31. Dezember 2014\\nWir waren beauftragt, den Konzernabschluss der JKW Vermögensgensverwaltungs GmbH,\\nAltusried-Kimratshofen - bestehend aus Konzernbilanz, Konzerngewinn- und\\nVerlustrechnung, Konzerneigenkapitalspiegel, Konzernkapitalflussrechnung und\\nKonzernanhang- und den Konzernlagebericht für das Geschäftsjahr vom 1. Januar 2014 bis\\n31. Dezember 2014 zu prüfen. Die Aufstellung von Konzernabschluss und\\nKonzernlagebericht nach den deutschen handelsrechtlichen Vorschriften liegt in der\\nVerantwortung der gesetzlichen Vertreter des Mutterunternehmens.\\nAls Ergebnis unserer Prüfung stellen wir fest, dass wir nach Ausschöpfung aller\\nangemessenen Möglichkeiten zur Klärung des Sachverhalts aus folgendem Grund nicht in\\nder Lage waren, ein Prüfungsurteil abzugeben:\\nDurch den langen zeitlichen Abstand zwischen dem zu prüfenden Geschäftsjahr und der\\nErteilung des Prüfungsauftrages konnten benötigte Unterlagen, Auskünfte und Informationen\\ntrotz Bemühens der Geschäftsleitung nicht mehr in einem für die Abgabe eines\\nPrüfungsurteils ausreichendem Umfang erlangt werden. Aufgrund der Bedeutung des\\ndargestellten Prüfungshemmnisses versagen wir den Bestätigungsvermerk.\\nAussagen darüber, ob der Konzernabschluss den gesetzlichen Vorschriften entspricht und\\nein unter Beachtung der Grundsätze ordnungsmäßiger Buchführung den tatsächlichen\\nVerhältnissen entsprechendes Bild der Vermögens-, Finanz- und Ertragslage des Konzerns\\nvermittelt, sind wegen des dargestellten Prüfungshemmnisses nicht möglich. Ebenso kann\\nnicht beurteilt werden, ob der Konzernlagebericht in Einklang mit einem den gesetzlichen\\nVorschriften entsprechenden Konzernabschluss steht, insgesamt ein zutreffendes Bild von\\nder Lage des Konzerns vermittelt und die Chancen und Risiken der zukünftigen Entwicklung\\nzutreffend darstellt. ', 49: 'Versagungsvermerk des Abschlussprüfers\\nWir wurden beauftragt, den Konzernabschluss – bestehend aus Bilanz, Gewinn- und\\nVerlustrechnung, Anhang, Kapitalflussrechnung und Eigenkapitalspiegel - und den\\nKonzernlagebericht der Albert Metz GmbH & Co. KG, Blumberg, für das Geschäftsjahr vom \\n30\\n01.01.2015 bis 31.12.2015 zu prüfen. Die Aufstellung von Konzernabschluss und\\nKonzernlagebericht nach den deutschen handelsrechtlichen Vorschriften liegt in der\\nVerantwortung der gesetzlichen Vertreter der Gesellschaft.\\nAls Ergebnis unserer Prüfung stellen wir fest, dass wir nach Ausschöpfung aller\\nangemessenen Möglichkeiten zur Klärung des Sachverhalts aus folgenden Gründen nicht in\\nder Lage waren, ein Prüfungsurteil abzugeben:\\nNeben dem Konzernabschluss wurden uns keine weiteren Unterlagen oder Nachweise zur\\nDurchführung der Konzernabschlussprüfung vorgelegt. Auf unsere Anforderungen von\\nPrüfungsunterlagen hat uns die Unternehmensleitung mit Schreiben vom 26. April 2018\\nmitgeteilt, dass sie sich insbesondere auf Grund des zeitlich weit zurückliegenden\\nPrüfungszeitraums nicht im Stande sieht, die von uns geforderten Prüfungsnachweise\\nvorzulegen. Bis zum Zeitpunkt der Versagung des Bestätigungsvermerks wurden uns auch\\nkeine ausreichenden und angemessenen Prüfungsnachweise zur Beurteilung des\\nKonzernabschlusses vorgelegt.\\nDarüber hinaus wurde uns von den gesetzlichen Vertretern der Albert Metz GmbH & Co. KG\\nkeine Vollständigkeitserklärung vorgelegt.\\nAufgrund der Bedeutung der dargestellten Prüfungshemmnisse versagen wir den\\nBestätigungsvermerk.\\nAussagen darüber, ob der Konzernabschluss den gesetzlichen Vorschriften entspricht und\\nein unter Beachtung der Grundsätze ordnungsmäßiger Buchführung den tatsächlichen\\nVerhältnissen entsprechendes Bild der Vermögens-, Finanz- und Ertragslage der\\nGesellschaft vermittelt, sind wegen der dargestellten Prüfungshemmnisse nicht möglich.\\nEbenso kann nicht beurteilt werden, ob der Konzernlagebericht in Einklang mit einem den\\ngesetzlichen Vorschriften entsprechenden Jahresabschluss steht, ein zutreffendes Bild von\\nder Lage der Gesellschaft vermittelt und die Chancen und Risiken der zukünftigen\\nEntwicklung zutreffend darstellt. ', 50: 'Versagungsvermerk des Abschlussprüfers\\nZu dem Konzernabschluss und dem Konzernlagebericht habe ich folgenden\\nVersagungsvermerk erteilt:\\nIch wurde beauftragt, den Konzernabschluss - bestehend aus Bilanz, Gewinn- und\\nVerlustrechnung, Anhang, Kapitalflussrechnung und Eigenkapitalspiegel - und den\\nKonzernlagebericht der Seifert Logistics GmbH, Ulm, für das Geschäftsjahr vom 1. Januar\\n2014 bis zum 31. Dezember 2014 zu prüfen. Die Aufstellung von Konzernabschluss und\\nKonzernlagebericht nach den deutschen handelsrechtlichen Vorschriften liegt in der\\nVerantwortung der gesetzlichen Vertreter der Gesellschaft. Meine Aufgabe ist es, auf der\\nGrundlage der von mir durchgeführten Prüfung eine Beurteilung über den Konzernabschluss\\nund über den Konzernlagebericht abzugeben.\\nAls Ergebnis meiner Prüfung stelle ich fest, dass ich nach Ausschöpfung aller\\nangemessenen Möglichkeiten zur Klärung der Sachverhalte aus folgendem Grund nicht in\\nder Lage war, ein Prüfungsurteil abzugeben: Die Geschäftsführung hat mir mit Schreiben\\nvom 16. November 2017 mitgeteilt, dass aufgrund des Zeitdrucks zur Offenlegung des \\n31\\nKonzernabschlusses und des Konzernlageberichts 2014 beim elektronischen\\nBundesanzeiger und der drohenden Einleitung eines Mahnverfahrens vom Bundesamt für\\nJustiz wegen der Verletzung der Offenlegungspflicht verbunden mit Bußgeldern die Prüfung\\ndes Konzernabschlusses und des Konzernlageberichts schnellstmöglich beendet werden\\nsoll. Die Geschäftsführung hat daher die Anweisung erteilt, mir für die Prüfung keine\\nweiteren Auskünfte zu erteilen und mir keine Unterlagen oder sonstige Informationen mehr\\nzur Verfügung zu stellen - egal ob diese von mir bereits angefragt wurden oder nicht.\\nÄnderungsvorschläge im Rahmen der Konzernprüfung sollen nicht in den Konzernabschluss\\neingearbeitet werden. Einen Versagungsvermerk nimmt sie in Kauf.\\nFerner hat mir die Geschäftsführung in dem Schreiben mitgeteilt, dass sie mir gegenüber\\nkeine Vollständigkeitserklärung abgeben wird. Die Geschäftsführung bestätigt in dem\\nSchreiben gleichzeitig, dass der bisher aufgestellte Konzernabschluss inhaltlich der Wahrheit\\nentspricht.\\nEine sorgfältige Prüfung ist mir damit nicht möglich. Aufgrund der Bedeutung des\\ndargestellten Prüfungshemmnisses versage ich den Bestätigungsvermerk.\\nAussagen darüber, ob der Konzernabschluss den gesetzlichen Vorschriften entspricht und\\nein unter Beachtung der Grundsätze ordnungsmäßiger Buchführung den tatsächlichen\\nVerhältnissen entsprechendes Bild der Vermögens-, Finanz- und Ertragslage des Konzerns\\nvermittelt, sind wegen des dargestellten Prüfungshemmnisses nicht möglich. Ebenso kann\\nnicht beurteilt werden, ob der Konzernlagebericht in Einklang mit einem den gesetzlichen\\nVorschriften entsprechenden Konzernabschluss steht, insgesamt ein zutreffendes Bild von\\nder Lage Konzerns vermittelt und die Chancen und Risiken der zukünftigen Entwicklung\\nzutreffend darstellt. ', 51: 'Unsere Prüfung hat mit Ausnahme der folgenden Einschränkung zu keinen Einwendungen\\ngeführt: Auswirkungen einer Allgemeinen Außenprüfung 2011 - 2014 konnten nicht bewertet\\nwerden, da die Prüfungen noch nicht abgeschlossen sind und Prüfungsfeststellungen nicht\\nvorlagen.\\nNach unserer Beurteilung aufgrund der bei der Prüfung gewonnenen Erkenntnisse entspricht\\nder Jahresabschluss mit der genannten Einschränkung … ', 52: 'Unsere Prüfung hat mit Ausnahme der folgenden Einschränkung zu keinen Einwendungen\\ngeführt: Entgegen § 285 Nr. 9 Buchstabe a HGB wurden im Anhang die Gesamtbezüge der\\nVorstände nicht angegeben.\\nNach unserer Beurteilung auf Grund der bei der Prüfung gewonnenen Erkenntnisse\\nentspricht der Jahresabschluss … ', 53: 'Meine Prüfung hat mit Ausnahme der folgenden Einschränkung zu keinen Einwendungen geführt: Das Vorhandensein der ausgewiesenen Vorräte in Höhe von EUR 233.262,87 konnte durch mich nicht überprüft werden, weil ich wegen verspäteter Auftragserteilung nach dem Bilanzstichtag nicht an der Inventur teilnehmen und durch alternative Prüfungshandlungen keine hinreichende Sicherheit über den Bestand der Vorräte gewinnen konnte. Es kann daher nicht ausgeschlossen werden, dass der Jahresabschluss insoweit fehlerhaft ist.', 54: 'Unsere Prüfung hat mit Ausnahme der folgenden Einschränkungen zu keinen Einwendungen geführt: Entgegen § 285 Nr. 14 HGB wurden im Anhang Name und Sitz des Mutterunternehmens, das einen Konzernabschluss für den kleinsten Konsolidierungskreis und Name und Sitz des Mutterunternehmens, das einen Konzernabschluss für den größten möglichen Konsolidierungskreis aufzustellen hat, nicht angegeben. Nach unserer Beurteilung aufgrund der bei der Prüfung gewonnenen Erkenntnisse entspricht der Jahresabschluss …', 55: 'Unsere Prüfung hat mit Ausnahme der folgenden Einschränkung zu keinen Einwendungen geführt: Entgegen § 285 Satz 1 Nr. 9 Buchstabe a) HGB wurden im Anhang die Gesamtbezüge der Geschäftsführer nicht angegeben. Nach unserer Beurteilung aufgrund der bei der Prüfung gewonnenen Erkenntnisse entspricht der Jahresabschluss …', 56: 'Unsere Prüfung hat mit Ausnahme der folgenden Einschränkung zu keinen Einwendungen geführt: Entgegen § 285 Nr. 9 Buchstabe a) HGB wurden im Anhang die Gesamtbezüge der Geschäftsführer und des Beirats nicht angegeben. Nach unserer Beurteilung auf Grund der bei der Prüfung gewonnenen Erkenntnisse entspricht der Jahresabschluss …', 57: 'Meine Prüfung hat mit Ausnahme der folgenden Einschränkung zu keinen Einwendungen geführt: Die Gesellschaft weist im vorliegenden Jahresabschluss unter der Bilanzposition selbst geschaffene gewerbliche Schutzrechte und ähnliche Rechte und Werte entsprechend bilanzieller Wahlrechtsausübung aktivierte Entwicklungskosten in Höhe von EUR 681.976,59 aus. Auf der Grundlage vorliegender Unterlagen kann sowohl das wahrscheinliche Entstehen eines einzelverwertbaren immateriellen Vermögensgegenstandes und damit die 6 Aktivierungsfähigkeit als auch die Höhe der aktivierten Entwicklungskosten nicht abschließend beurteilt werden. Es kann daher nicht ausgeschlossen werden, dass der Jahresabschluss insoweit nicht ordnungsgemäß ist. Mit dieser Einschränkung entspricht der Jahresabschluss …', 58: 'Unsere Prüfung hat mit Ausnahme der folgenden Einschränkung zu keinen Einwendungen geführt: Die Bewertung der im Jahresabschluss zum 31. Mai 2017 in Höhe von EUR 20,8 Mio. ausgewiesenen anderen Anlagen, Betriebs- und Geschäftsausstattung war nicht hinreichend nachgewiesen. Ferner wurden im Rahmen der Prüfung des Jahresabschlusses zum 31. Mai 2017 zahlreiche Unstimmigkeiten in Bezug auf die Periodenabgrenzung der Umsatzerlöse und der Aufwendungen für bezogene Leistungen festgestellt. Insoweit war es nicht möglich, eine hinreichende Sicherheit über die zum 31. Mai 2017 ausgewiesenen Forderungen und Verbindlichkeiten aus Lieferungen und Leistungen, sonstige Rückstellungen sowie der korrespondierenden Abschlussposten (sonstige Vermögensgegenstände und sonstige Verbindlichkeiten) zu erzielen. Gleiches gilt für die Periodenabgrenzung zum 31. Dezember 2016 / 1. Januar 2017. Demzufolge können wir nicht beurteilen, in welchem Umfang in den Umsatzerlösen und im Aufwand für bezogene Leistungen des Berichtsjahres periodenfremde Beträge enthalten sind, die gesondert hätten ausgewiesen werden müssen und ob Angaben zur Herstellung der Vergleichbarkeit der ausgewiesenen Forderungen, Verbindlichkeiten aus Lieferungen und Leistungen, sonstigen Rückstellungen, sonstigen Vermögensgegenständen und sonstigen Verbindlichkeiten hätten gemacht werden müssen. Es kann daher nicht ausgeschlossen werden, dass der Jahresabschluss insoweit fehlerhaft ist. Mit dieser Einschränkung entspricht der Jahresabschluss …', 59: 'Unsere Prüfung hat mit Ausnahme der nachfolgenden Einschränkung zu keinen Einwendungen geführt. Das Vorhandensein der ausgewiesenen Vorräte in Höhe von 3.476.069,82 EUR ist nicht hinreichend nachgewiesen, weil wir nicht an der Inventur teilnehmen und durch alternative Prüfungshandlungen keine hinreichende Sicherheit über den Bestand der Vorräte gewinnen konnten. Es kann daher nicht ausgeschlossen werden, dass der Jahresabschluss insoweit fehlerhaft ist. Mit dieser Einschränkung entspricht der Jahresabschluss …', 60: 'Unsere Prüfung hat mit Ausnahme der folgenden Einschränkungen zu keinen Einwendungen geführt: Der Konzernanhang 2016 enthält entgegen der gesetzlichen Vorschriften die folgenden Angaben nicht: Die Anteile am Kapital der Tochterunternehmen, die dem Mutterunternehmen gehören (§ 313 Abs. 2 Nr. 1 HGB), die Aufgliederung der Umsatzerlöse nach geographisch bestimmten Märkten (§ 314 Abs. 1 Nr. 3 HGB). Nach unserer Beurteilung aufgrund der bei der Prüfung gewonnenen Erkenntnisse entspricht der Konzernabschluss …', 61: 'Unsere Prüfung hat mit Ausnahme der folgenden Einschränkung zu keinen Einwendungen geführt: Das Vorhandensein bestimmter Teile der ausgewiesenen Konzernvorräte in Höhe von TEUR 2.326 ist nicht hinreichend nachgewiesen, weil wir nicht an der Inventur teilnehmen und durch alternative Prüfungshandlungen keine hinreichende Sicherheit über den Bestand der Vorräte gewinnen konnten. Es kann daher nicht ausgeschlossen werden, dass der Konzernabschluss insoweit fehlerhaft ist. Mit dieser Einschränkung entspricht der Konzernabschluss …', 62: 'Unsere Prüfung hat mit Ausnahme der folgenden Einschränkung zu keinen Einwendungen geführt: Entgegen § 314 Abs. 1 Nr. 6 Buchstabe b) HGB wurden im Anhang die Gesamtbezüge der ehemaligen Geschäftsführer und ihrer Hinterbliebenen sowie die für diese Personengruppe gebildeten Pensionsrückstellungen nicht angegeben. Nach unserer Beurteilung aufgrund der bei der Prüfung gewonnenen Erkenntnisse entspricht der Konzernabschluss …', 63: 'Unsere Prüfung hat mit Ausnahme der folgenden Einschränkung zu keinen Einwendungen geführt: Entgegen § 264c Abs. 1 HGB in Verbindung mit § 298 Abs. 1 HGB sind die Forderungen und Verbindlichkeiten gegenüber Gesellschaftern weder in der Bilanz noch im Anhang gesondert ausgewiesen. Nach unserer Beurteilung aufgrund der bei der Prüfung gewonnenen Erkenntnisse entspricht der Konzernabschluss …', 64: 'Unsere Prüfung hat mit Ausnahme folgender Einschränkung zu keinen Einwendungen geführt. Entgegen der Vorschriften der § 314 Abs.1 Nr. 6 HGB wurden im Anhang die Gesamtbezüge der Geschäftsführung nicht angegeben. Nach unserer Beurteilung aufgrund der bei der Prüfung gewonnenen Erkenntnisse entspricht der Konzernabschluss …', 65: 'Unsere Prüfung hat mit Ausnahme der folgenden Einschränkung zu keinen Einwendungen geführt: Seitens der Unternehmensleitung und der Mitarbeiter der Gesellschaft wurden keine ausreichenden Informationen zu der Werthaltigkeit von Maschinen mit Buchwerten von Mio. EUR 1,8 erteilt und auch alternative Prüfungshandlungen haben nicht zu einer angemessenen Klärung des Sachverhalts geführt. Daher konnte nicht festgestellt werden, ob dieses Anlagevermögen möglicherweise hätte anders bewertet werden müssen. Es kann daher nicht ausgeschlossen werden, dass der Konzernabschluss insoweit fehlerhaft ist. Mit dieser Einschränkung entspricht der Konzernabschluss …', 66: 'Unsere Prüfung hat mit Ausnahme der folgenden Einschränkung zu keinen Einwendungen geführt: Die Bewertung der Vorräte eines in den Konzernabschluss einbezogenen Tochterunternehmens wurde entgegen § 253 Abs. 1 HGB nicht mit den Anschaffungskosten vorgenommen. Das entsprechende Vorratsvermögen wäre um T€ 91 niedriger zu bilanzieren. Nach unserer Beurteilung aufgrund der bei der Prüfung gewonnenen Erkenntnisse entspricht der Konzernabschluss mit der genannten Einschränkung …', 67: 'Unsere Prüfung hat mit Ausnahme der folgenden Einschränkung zu keinen Einwendungen geführt: Entgegen den gesetzlichen Vorschriften sind Forderungen gegen Gesellschafter im Konzernabschluss nicht gesondert ausgewiesen. Nach unserer Beurteilung aufgrund der bei der Prüfung gewonnenen Erkenntnisse entspricht der Konzernabschluss …', 68: 'Meine Prüfung hat mit folgender Einschränkung zu keinen Einwendungen geführt: Der Konzernlagebericht enthält entgegen den gesetzlichen Vorschriften des § 315 HGB keine ausreichenden Angaben zur Darstellung und Analyse des Geschäftsverlaufs sowie zur Prognose des Geschäftsverlaufs im Geschäftsjahr 2017 und zur voraussichtlichen Entwicklung mit ihren wesentlichen Chancen und Risiken. Darüber hinaus wurden bei der Analyse nicht die für die Geschäftstätigkeit bedeutsamen finanziellen und nichtfinanziellen Leistungsindikatoren einbezogen und es fehlen Erläuterungen gemäß § 315 Abs. 2 Nr. 1 und 2 sowie Abs. 3 HGB. Nach meiner Beurteilung aufgrund der bei der Prüfung gewonnenen Erkenntnisse entspricht der Konzernabschluss …', 69: 'Unsere Prüfung hat mit Ausnahme der folgenden Einschränkung zu keinen Einwendungen geführt: Entgegen § 314 Abs.1 Nr. 6 Buchstabe a HGB wurden im Anhang die Gesamtbezüge der Geschäftsführer nicht angegeben. Nach unserer Beurteilung aufgrund der bei der Prüfung gewonnenen Erkenntnisse entspricht der Konzernabschluss …', 70: 'Unsere Prüfung hat mit Ausnahme der folgenden Einschränkung zu keinen Einwendungen geführt: Entgegen § 314 Abs. 1 Nr. 6 Buchstabe a HGB wurden im Konzernanhang die Gesamtbezüge der Geschäftsführer nicht angegeben. Nach unserer Beurteilung aufgrund der bei der Prüfung gewonnenen Erkenntnisse entspricht der Konzernabschluss mit der genannten Einschränkung …', 71: 'Unsere Prüfung hat mit Ausnahme der folgenden Einschränkung zu keinen Einwendungen geführt: Im Rahmen unserer Konzernabschlussprüfung haben wir die Abschlüsse der ausländischen Gesellschaften einer prüferischen Durchsicht unterzogen. Dabei war es uns nicht möglich, Prüfungshandlungen für sämtliche Vorräte, Forderungen und Rückstellungen und Verbindlichkeiten für die ausländischen Konzerngesellschaften durchzuführen. Insbesondere haben wir nicht beobachtend an den Inventuren teilgenommen. Auch wenn wir der Meinung sind, dass die möglichen Auswirkungen der ungeprüften Bilanzposten auf die Vermögens-, Finanz- und Ertragslage des Konzerns von untergeordneter Bedeutung sind, kann nicht ausgeschlossen werden, dass der Konzernabschluss insoweit fehlerhaft ist. Mit dieser Einschränkung entspricht der Konzernabschluss …', 72: 'Unsere Prüfung hat mit Ausnahme der folgenden Einschränkung zu keinen Einwendungen geführt: Entgegen § 285 Nr. 9 Buchstabe a) HGB wurden im Anhang die Gesamtbezüge des Vorstands nicht angegeben.', 73: 'Unsere Prüfung hat mit Ausnahme der folgenden Einschränkung zu keinen Einwendungen geführt: Entgegen § 289 Abs. 1 Satz 4 HGB wird im Lagebericht im Rahmen der Erläuterungen der wesentlichen Chancen und Risiken der voraussichtlichen Entwicklung kein Prognosewert zu dem bedeutsamsten finanziellen Leistungsindikator für das dem Berichtsjahr folgende Geschäftsjahr dargestellt.', 74: 'Unsere Prüfung hat mit Ausnahme der folgenden Einschränkung zu keinen Einwendungen geführt: Entgegen § 253 Abs. 4 HGB wurde eine nach unserer Auffassung notwendige Abschreibung (639 TE) einer Forderung auf den niedrigeren Wert nicht vorgenommen. Nach unserer Beurteilung aufgrund der bei der Prüfung gewonnenen Erkenntnisse entspricht der Jahresabschluss … und stellt die Chancen und Risiken der zukünftigen Entwicklung zutreffend dar. Ohne diese Beurteilung weiter einzuschränken, weisen wir pflichtgemäß auf die Ausführungen des Vorstandes zur Liquiditätssituation im Abschnitt „E. Risikobericht“ des Lageberichts hin. Dort ist im einleitenden Abschnitt ausgeführt, dass bei massiven Abweichungen vom planmäßigen Geschäftsverlauf Engpässe bei Eigenkapital und Liquidität mit dem Risiko einer Bestandsgefährdung eintreten können.', 75: 'Unter der Bedingung, dass der von uns geprüfte und mit einem eingeschränkten Bestätigungsvermerk versehene Jahresabschluss zum 31. Dezember 2014 von der Gesellschafterversammlung festgestellt wird, erteilen wir den nachstehenden Bestätigungsvermerk: Wir haben den Jahresabschluss … mit den im nachfolgenden Absatz dargestellten Ausnahmen eine hinreichend sichere Grundlage für unsere Beurteilung bildet. Unsere Prüfung hat mit Ausnahme der folgenden Einschränkungen zu keinen Einwendungen geführt: Das Vorhandensein der ausgewiesenen Vorräte in Höhe von T€ 2.825 sowie des Kassenbestandes in Höhe von T€ 953 ist nicht hinreichend nachgewiesen, weil wir nicht an der Inventur teilnehmen und durch alternative Prüfungshandlungen keine hinreichende Sicherheit über den Bestand der Vorräte und des Kassenbestandes gewinnen konnten. Es kann daher nicht ausgeschlossen werden, dass der Jahresabschluss insoweit fehlerhaft ist.', 76: 'Unsere Prüfung hat mit Ausnahme der folgenden Einschränkung zu keinen Einwendungen geführt: Der Nachweis über die Existenz, die Vollständigkeit und die Periodenabgrenzung der Umsatzerlöse in Höhe von TEUR 33.229 sowie der Materialaufwendungen in Höhe von TEUR 23.245 konnte nicht erbracht werden, weil die Gesellschaft uns keine Abliefernachweise für die Umsatzerlöse vorlegen konnte und wir keine hinreichende Sicherheit über die Existenz, die Vollständigkeit und die Periodenabgrenzung der Umsatzerlöse und des Materialaufwandes durch alternative Prüfungshandlungen erlangen konnten. Es kann daher nicht ausgeschlossen werden, dass der Jahresabschluss insoweit fehlerhaft ist.', 77: 'Unsere Prüfung hat mit der Ausnahme der folgenden Einschränkung zu keinen Einwendungen geführt: Die Angaben im Anhang und Lagebericht sind zutreffend aber nicht vollständig. Im Anhang wurden entgegen § 285 Nr. 2 HGB Angaben zur Höhe der einzelnen Verbindlichkeiten und zu den Restlaufzeiten nicht genannt, die Mitzugehörigkeit zu anderen Posten wurde bei Verbindlichkeiten entgegen § 265 Abs. 3 HGB nicht angegeben, entgegen § 264c Abs. 1 S. 1 HGB wurden die Verbindlichkeiten gegenüber Gesellschafter nicht gesondert ausgewiesen, die Angaben zu Mitarbeiter wurde entgegen § 285 Nr. 7 HGB unterlassen, Angaben zum Abschlussprüferhonorar wurden entgegen § 285 Nr. 17 HGB nicht angegeben, der Gesamtbetrag der sonstigen finanziellen Verpflichtungen wurde entgegen § 285 Nr. 3a HGB nicht genannt und die Angaben zu Name und Sitz des Mutterunternehmens wurden entgegen § 285 Nr. 14 HGB nicht gemacht. Der Lagebericht entspricht in Inhalt und Umfang nicht den gesetzlichen Vorschriften. Er enthält keine 6 umfassende, dem Umfang und Komplexität der Geschäftstätigkeit entsprechende Analyse des Geschäftsverlaufs und der Lage und vermittelt daher auch kein den tatsächlichen Verhältnissen entsprechendes Bild. Die voraussichtliche Entwicklung der Gesellschaft mit ihren wesentlichen Chancen und Risiken wurde nicht ausreichend erläutert.', 78: 'Unsere Prüfung hat mit Ausnahme der folgenden Einschränkung zu keinen Einwendungen geführt: Das Vorhandensein der im Geschäftsjahr 2015 ausgewiesenen Vorräte in Höhe von insgesamt Euro 7.363.324,47 ist nicht hinreichend nachgewiesen, weil wir nicht an der Inventur im Geschäftsjahr beobachtend teilgenommen haben und durch alternative Prüfungshandlungen keine hinreichende Sicherheit über den Bestand und die Bewertung der Vorräte zum 31. Dezember 2015 gewinnen konnten. Es kann daher nicht ausgeschlossen werden, dass das Vorhandensein und der Ausweis der Vorräte zum 31. Dezember 2015 und damit auch die entsprechenden Bestandsveränderungen im Geschäftsjahr 2015 insoweit fehlerhaft sind. Nach unserer Beurteilung aufgrund der bei der Prüfung gewonnenen Erkenntnisse entspricht der Jahresabschluss … und stellt die Chancen und Risiken der zukünftigen Entwicklung zutreffend dar. Ohne diese Beurteilung einzuschränken, weisen wir auf die Ausführungen der Gesellschaft im Lagebericht zur Entwicklung der Gesellschaft nach dem Bilanzstichtag im Abschnitt III. Nachtragsbericht, im Abschnitt IV. Prognosebericht sowie im Abschnitt V. Chancen- und Risikobericht (insbesondere zu den bestandsgefährdenden Risiken) hin. Aufgrund einer drohenden Zahlungsunfähigkeit hat die Gesellschaft am 08. Februar 2017 einen Antrag auf Eröffnung des Insolvenzverfahrens in Eigenverwaltung gestellt. Das Verfahren wurde am 01. Mai 2017 eröffnet. Für die weitere operative Entwicklung der Gesellschaft ist es entscheidend, inwieweit bestehende Abnahmeverträge und deren Preiskonditionen neu verhandelt werden können. Die Fortführung der Geschäftstätigkeit soll dabei durch potenzielle Investoren erfolgen, mit denen bereits Gespräche geführt werden. Kunden der Gesellschaft haben in eine befristete Verlustübernahmevereinbarung bis zum 30. November 2017 eingewilligt. Gleichzeitig erfolgte im Geschäftsjahr 2016 eine Bereinigung der Kapitalstruktur durch einen Forderungsverzicht mit Besserungsabrede in Höhe von TEuro 9.000.', 79: 'Meine Prüfung hat mit Ausnahme der folgenden Einschränkung zu keinen Einwendungen geführt: Entgegen § 285 Nr. 19 HGB wurden im Anhang die Angaben zu derivativen Finanzinstrumenten nicht gemacht.', 80: 'Unsere Prüfung hat mit Ausnahme der folgenden Einschränkung zu keinen Einwendungen geführt: Entgegen § 285 Nr. 9 Buchstabe a) HGB wurden im Anhang die Gesamtbezüge der Geschäftsführung nicht angegeben.', 81: 'Unsere Prüfung hat mit Ausnahme der folgenden Einschränkung zu keinen Einwendungen geführt: Entgegen § 285 Nr. 9 Buchstabe a) HGB wurden im Anhang die Gesamtbezüge der Geschäftsführer nicht angegeben', 82: 'Meine Prüfung hat mit Ausnahme der folgenden Einschränkung zu keinen Einwendungen geführt. Abweichend von § 314 Abs. 1 Nr. 6 a) HGB wurden im Konzernanhang die Gesamtbezüge der 2 Mitglieder des Geschäftsführungsorgans nicht angegeben.', 83: 'Unsere Prüfung hat mit Ausnahme der folgenden Einschränkungen zu keinen Einwendungen geführt: Die Anhangsangaben nach § 314 Abs. 1 Nr. 3 HGB, § 314 Abs. 1 Nr. 6 HGB, § 314 Abs. 1 Nr. 9 HGB und § 314 Nr. 10 HGB wurden unterlassen.', 84: 'Meine Prüfung hat mit Ausnahme der folgenden Einschränkung zu keinen Einwendungen geführt: Entgegen § 314 (1) Nr. 6 Buchstabe a) HGB wurden im Anhang die Gesamtbezüge der Geschäftsführer nicht angegeben.', 85: 'Unsere Prüfung hat mit Ausnahme der folgenden Einschränkung zu keinen Einwendungen geführt: Der Nachweis der Vorräte in Höhe von EUR 6.136.690,89 konnte nicht hinreichend erbracht werden, weil wir nicht an der Inventur teilnehmen und durch alternative Prüfungshandlungen keine hinreichende Sicherheit über den Bestand der Vorräte gewinnen konnten. Es kann daher nicht ausgeschlossen werden, dass der Jahresabschluss insoweit fehlerhaft ist.', 86: 'Unsere Prüfung hat mit Ausnahme der folgenden Einschränkung zu keinen Einwendungen geführt: Das Mutterunternehmen hat entgegen § 249 HGB keine Rückstellung für die im Konzernlagebericht unter C.2. beschriebene, nicht rechtskräftige Kartellgeldbuße über EUR 62 Mio. gebildet.', 87: 'Meine Prüfung hat mit Ausnahme der folgenden Einschränkung zu keinen Einwendungen geführt: Entgegen § 314 Abs. 1 Nr. 2 HGB wurden keine Angaben zu nicht in der Bilanz enthaltenen Geschäften gemacht (Art, Zweck, Risiken, Vorteile) bzw. entgegen § 314 Abs. 1 Nr. 2a HGB wurde der Gesamtbetrag der sonstigen finanziellen Verpflichtungen nicht angegeben.', 88: 'Unsere Prüfung hat mit Ausnahme der folgenden Einschränkung zu keinen Einwendungen geführt: Die Werthaltigkeit der Wertpapiere des Anlagevermögens in Höhe von 15.959 TEuro konnte nicht hinreichend nachgewiesen werden. Korrespondierend hierzu können zudem die Abschreibungen auf Finanzanlagen in Höhe von 12.137 TEuro nicht geprüft werden. Es kann daher nicht ausgeschlossen werden, dass der Konzernabschluss insoweit fehlerhaft ist.', 89: 'Ohne diese Beurteilung einzuschränken, weisen wir auf die Ausführungen in den Abschnitten „Risikobericht\" und „Zusammenfassung und Prognose\" im Lagebericht hin. Dort ist aufgeführt, dass der Fortbestand der Gesellschaft von den erfolgreichen Wirkungen der Restrukturierungs- und Optimierungsmaßnahmen abhängig ist. Darüber hinaus wird dargestellt, dass die Gesellschaft bei einem Verfehlen der Planung auf die Zuführung weiterer finanzieller Mittel angewiesen sein kann, um nicht in ihrem Bestand gefährdet zu sein.', 90: 'Unsere Prüfung hat mit Ausnahme der folgenden Einschränkung zu keinen Einwendungen geführt: Entgegen § 253 Abs. 4 HGB wurde eine nach unserer Auffassung notwendige Abschreibung (639 TE) einer Forderung auf den niedrigeren Wert nicht vorgenommen. Nach unserer Beurteilung aufgrund der bei der Prüfung gewonnenen Erkenntnisse entspricht der Jahresabschluss … und stellt die Chancen und Risiken der zukünftigen Entwicklung zutreffend dar. Ohne diese Beurteilung weiter einzuschränken, weisen wir pflichtgemäß auf die Ausführungen des Vorstandes zur Liquiditätssituation im Abschnitt „E. Risikobericht“ des Lageberichts hin. Dort ist im einleitenden Abschnitt ausgeführt, dass bei massiven Abweichungen vom planmäßigen Geschäftsverlauf Engpässe bei Eigenkapital und Liquidität mit dem Risiko einer Bestandsgefährdung eintreten können', 91: 'Ohne diese Beurteilung einzuschränken, weisen wir auf die Ausführungen im Lagebericht hin. Dort ist in Abschnitt II. 2. c) Vermögenslage ausgeführt, dass die Gesellschaft für das 12 Geschäftsjahr 2016/17 mit weiteren Verlusten rechnet, die ohne weitere Kapitalmaßnahmen voraussichtlich zu einer buchmäßigen Überschuldung führen werden, dass aber der Hauptgläubiger und -lieferant zur Vermeidung der Folgen einer etwa mit der bilanziellen Überschuldung einhergehenden auch tatsächlichen Überschuldung bereits vorsorglich eine Rangrücktritts- und Stundungserklärung hinsichtlich seiner bestehenden und künftigen Forderungen abgegeben hat.', 92: 'Ohne diese Beurteilung einzuschränken, weisen wir auf die Ausführungen des Vorstands zu bestandsgefährdenden Risiken im Lagebericht hin. Dort ist in Abschnitt IV. \"Prognose-, Risiko- und Chancenbericht\" ausgeführt, dass der Fortbestand der Gesellschaft von der Durchführung weiterer Kapital- bzw. Finanzierungsmaßnahmen und der weitgehenden Erreichung der Umsatz- und Ergebnisziele der Unternehmensplanung abhängig ist.', 93: 'Ohne unsere Beurteilung einzuschränken, weisen wir auf die Ausführungen im Lagebericht unter Punkt „Chancen und Risiken der voraussichtlichen Entwicklung“ hin. Dort ist aufgeführt, dass der positive Fortbestand des Unternehmens aufgrund der angespannten Vermögens- und Ertragslage der Gesellschaft wesentlich von der allgemeinen Entwicklung und Nachfrage im Maschinenbau abhängen wird und die Kreditlinien der finanzierenden Banken nur bei planungskonformem Geschäftsverlauf bis auf weiteres bestehen. Sollten die Kreditlinien gekündigt werden, droht die Zahlungsunfähigkeit der Gesellschaft. Der Fortbestand der Gesellschaft ist wesentlich von der finanziellen Unterstützung durch die Gesellschafter und finanzierenden Banken abhängig.', 94: 'Ohne diese Beurteilung einzuschränken, weisen wir pflichtgemäß auf den in der Bilanz ausgewiesenen nicht durch Eigenkapital gedeckten Fehlbetrag von TEUR 7.407 sowie die Ausführungen der Geschäftsführung zu bestandsgefährdenden Risiken im Lagebericht hin. Im Lagebericht wird ausgeführt, dass das Mutterunternehmen HÄRTER Stanztechnik GmbH & Co. KGaA, Königsbach-Stein, in eine Patronatserklärung eingetreten ist, wonach sie der Gesellschaft die erforderlichen Mittel zur Erfüllung von Zahlungsverpflichtungen gegenüber Dritten zur Verfügung stellt, um den Fortbestand der Gesellschaft sicherzustellen.', 95: 'Ohne diese Beurteilung einzuschränken, weisen wir auf die Ausführungen der gesetzlichen Vertreter im Lagebericht hin. Dort ist in Abschnitt IV. „Prognose-, Chancen- und Risikobericht“ ausgeführt, dass der Bestand der Gesellschaft gefährdet und die Liquiditätslage der Gesellschaft angespannt ist sowie die oberste Konzernmuttergesellschaft, die ALFAGOMMA S.p.A., Vimercate, Italien, zur Aufrechterhaltung der Zahlungsfähigkeit der Gesellschaft eine Liquiditätsausstattungsgarantie abgegeben hat. Der Fortbestand der Gesellschaft ist von der unveränderten finanziellen Unterstützung durch die oberste Konzernmuttergesellschaft abhängig.', 96: 'Pflichtgemäß weisen wir auf die Ausführungen des gesetzlichen Vertreters im Lagebericht und im Abschnitt \"Allgemeine Erläuterungen\" des Anhangs hin, dass sich die Gesellschaft seit dem 4. Juli 2013 in Insolvenz und seit Oktober 2015 in Liquidation befindet und der Jahresabschluss daher unter Abkehr vom Grundsatz der Fortführung der Unternehmenstätigkeit (§ 252 Absatz 1 Nr. 2 HGB) aufgestellt wurde.', 97: 'Unsere Prüfung hat mit Ausnahme der folgenden Einschränkung zu keinen Einwendungen\\ngeführt:\\nDas Vorhandensein der im Geschäftsjahr 2015 ausgewiesenen Vorräte in Höhe von\\ninsgesamt Euro 7.363.324,47 ist nicht hinreichend nachgewiesen, weil wir nicht an der\\nInventur im Geschäftsjahr beobachtend teilgenommen haben und durch alternative\\nPrüfungshandlungen keine hinreichende Sicherheit über den Bestand und die Bewertung der\\nVorräte zum 31. Dezember 2015 gewinnen konnten. Es kann daher nicht ausgeschlossen\\nwerden, dass das Vorhandensein und der Ausweis der Vorräte zum 31. Dezember 2015 und\\ndamit auch die entsprechenden Bestandsveränderungen im Geschäftsjahr 2015 insoweit\\nfehlerhaft sind.\\nNach unserer Beurteilung aufgrund der bei der Prüfung gewonnenen Erkenntnisse entspricht\\nder Jahresabschluss … und stellt die Chancen und Risiken der zukünftigen Entwicklung\\nzutreffend dar.\\nOhne diese Beurteilung einzuschränken, weisen wir auf die Ausführungen der Gesellschaft\\nim Lagebericht zur Entwicklung der Gesellschaft nach dem Bilanzstichtag im Abschnitt III.\\nNachtragsbericht, im Abschnitt IV. Prognosebericht sowie im Abschnitt V. Chancen- und\\nRisikobericht (insbesondere zu den bestandsgefährdenden Risiken) hin. Aufgrund einer\\ndrohenden Zahlungsunfähigkeit hat die Gesellschaft am 08. Februar 2017 einen Antrag auf\\nEröffnung des Insolvenzverfahrens in Eigenverwaltung gestellt. Das Verfahren wurde am 01.\\nMai 2017 eröffnet. Für die weitere operative Entwicklung der Gesellschaft ist es \\nentscheidend, inwieweit bestehende Abnahmeverträge und deren Preiskonditionen neu\\nverhandelt werden können. Die Fortführung der Geschäftstätigkeit soll dabei durch\\npotenzielle Investoren erfolgen, mit denen bereits Gespräche geführt werden. Kunden der\\nGesellschaft haben in eine befristete Verlustübernahmevereinbarung bis zum 30. November\\n2017 eingewilligt. Gleichzeitig erfolgte im Geschäftsjahr 2016 eine Bereinigung der\\nKapitalstruktur durch einen Forderungsverzicht mit Besserungsabrede in Höhe von TEuro\\n9.000.', 98: 'Ohne diese Beurteilung einzuschränken, weisen wir auf die Ausführungen im Lagebericht hin. Dort ist in Abschnitt IV.1. Risikobericht ausgeführt, dass der Fortbestand der Gesellschaft aufgrund angespannter Liquidität bei Nicht-Prolongation der bestehenden Kreditlinien bedroht ist.', 99: 'Ohne diese Beurteilung einzuschränken, weisen wir auf die Ausführungen der Geschäftsführung im Lagebericht im Abschnitt „V. Chancen- und Risikobericht, 1. Risikobericht, Unterabschnitt Finanzwirtschaftliche Risiken“ hin. Dort wird ausgeführt, dass der Fortbestand des Unternehmens gefährdet ist, sollte sich die erwartete Nachfrage in den Geschäftsjahren 2017 und 2018 nicht einstellen und gleichzeitig die Gesellschafter kein weiteres Kapital zur Stärkung der Liquidität zur Verfügung stellen können.', 100: 'Ohne diese Beurteilung einzuschränken, weisen wir auf den Lagebericht hin. Dort steht im Abschnitt „Risiken des Unternehmens, Liquiditätsrisiko“, dass ohne weitere Umstrukturierungs- und Investitionsmaßnahmen der Turnaround nicht möglich ist und ohne weitere Gesellschafterhilfen die Zahlungsunfähigkeit droht.', 101: 'Unter der Bedingung, dass der von uns geprüfte und mit einem eingeschränkten Bestätigungsvermerk versehene Jahresabschluss zum 31. Dezember 2014 von der Gesellschafterversammlung festgestellt wird, erteilen wir den nachstehenden Bestätigungsvermerk: Wir haben den Jahresabschluss … mit den im nachfolgenden Absatz dargestellten Ausnahmen eine hinreichend sichere Grundlage für unsere Beurteilung bildet. Unsere Prüfung hat mit Ausnahme der folgenden Einschränkungen zu keinen Einwendungen geführt: Das Vorhandensein der ausgewiesenen Vorräte in Höhe von T€ 2.825 sowie des Kassenbestandes in Höhe von T€ 953 ist nicht hinreichend nachgewiesen, weil wir nicht an der Inventur teilnehmen und durch alternative Prüfungshandlungen keine hinreichende Sicherheit über den Bestand der Vorräte und des Kassenbestandes gewinnen konnten. Es kann daher nicht ausgeschlossen werden, dass der Jahresabschluss insoweit fehlerhaft ist.', 102: 'Unter der Bedingung, dass die Jahresabschlüsse zum 30. Juni 2015, 30. Juni 2014 und 30. Juni 2013 in der Fassung festgestellt werden, die diesem Jahresabschluss zugrunde gelegt worden sind, haben wir den uneingeschränkten Bestätigungsvermerk wie folgt erteilt: Bestätigungsvermerk des Abschlussprüfers Wir haben den Jahresabschluss …', 103: 'Diese Bestätigung erteilen wir aufgrund unserer pflichtgemäßen, am 15. September 2016 abgeschlossenen Abschlussprüfung und unserer Nachtragsprüfung, die sich auf die Änderung der Bilanz der Gesellschaft in den Posten Forderungen gegen verbundene Unternehmen, sonstige Rückstellungen, erhaltene Anzahlungen auf Bestellungen sowie Verbindlichkeiten gegenüber dem Gesellschafter, der Gewinn- und Verlustrechnung der Gesellschaft in den Positionen sonstige betriebliche Erträge, Personalaufwand und sonstige betriebliche Aufwendungen sowie auf geänderte Betragsangaben im Anhang und im Lagebericht und einen angepassten Ausblick im Lagebericht bezog. Auf die Begründung der Änderung durch die Geschäftsführung der Gesellschaft im geänderten Anhang, Abschnitt „II. Nachträgliche Korrektur des Jahresabschlusses\", sowie im geänderten Lagebericht, Abschnitt „Vorbemerkung\", wird verwiesen. Die Nachtragsprüfung hat zu keinen Einwendungen geführt.', 104: 'Diese Bestätigung erteilen wir aufgrund unserer pflichtgemäßen, am 20. Februar 2017 abgeschlossenen Abschlussprüfung und unserer Nachtragsprüfung, die sich auf die Änderung des Anhangs und die nachträgliche Aufstellung eines Lageberichts bezog. Auf die Begründung der Änderungen durch die Gesellschaft im geänderten Anhang wird verwiesen. Die Nachtragsprüfung hat zu keinen Einwendungen geführt.', 105: 'Diese Bestätigung erteilen wir aufgrund unserer pflichtgemäßen, am 29. Juni 2016 abgeschlossenen Abschlussprüfung und unserer Nachtragsprüfung, die sich auf die Änderung der Gliederung des Eigenkapitals und dort auf die Posten „Kapitalrücklage“ und „Gewinnvortrag“ sowie der entsprechenden Angaben im Anhang bezog. Auf die Begründung der Änderung durch die Gesellschaft im geänderten Anhang, Abschnitt III. „Erläuterungen zu einzelnen Bilanzposten“ wird verwiesen. Die Nachtragsprüfung hat zu keinen Einwendungen geführt.', 106: 'Versagungsvermerk Ich wurde beauftragt, den Jahresabschluss – bestehend aus Bilanz, Gewinn- und Verlustrechnung sowie Anhang - unter Einbeziehung der Buchführung und den Lagebericht der Dr.-Ing. Max Schlötter GmbH & Co. KG für das Geschäftsjahr vom 01. Januar 2013 bis 31. Dezember 2013 zu prüfen. Die Buchführung und die Aufstellung von Jahresabschluss und Lagebericht nach den deutschen handelsrechtlichen Vorschriften liegen in der Verantwortung der gesetzlichen Vertreter der Gesellschaft. Als Ergebnis meiner Prüfung stelle ich fest, dass ich nach Ausschöpfung aller angemessenen Möglichkeiten zur Klärung des Sachverhalts aus folgenden Gründen nicht in der Lage war, ein Prüfungsurteil abzugeben: Der Jahresabschluss wurde erst im Jahr 2017 durch Übernahme der Salden aus einer Summen- und Saldenliste erstellt. Wesentliche Unterlagen wurden nicht vorgelegt, welche für eine ordnungsgemäße Prüfung erforderlich sind. Es wurden dabei Schwächen im rechnungslegungsbezogenen internen Kontrollsystem festgestellt. Damit war es nicht möglich, eine hinreichende Sicherheit über die Wirksamkeit des rechnungslegungsbezogenen internen Kontrollsystems sowie in Bezug auf die Vollständigkeit, Existenz und Bewertung von insbesondere Vorräten, Forderungen aus Lieferungen und Leistungen, Eigenkapital, sonstigen Rückstellungen und Verbindlichkeiten zu erzielen, welche im Jahresabschluss eine Höhe von rd. 20 % bis 50 % der Bilanzsumme betreffen. Es konnte damit auch in Bezug auf die tatsächliche Höhe der in der Gewinn- und Verlustrechnung ausgewiesenen Posten keine hinreichende Sicherheit erlangt werden. Aufgrund nicht vorgelegter wesentlicher Unterlagen kann ich nicht mit hinreichender Sicherheit die Vollständigkeit und Richtigkeit der Erläuterungen im Anhang und Lagebericht beurteilen. Ich verweise u.a. auf die Ausführungen im Lagebericht unter den Punkten „Geschäftsverlauf und Rahmenbedingungen“, „Lage des Unternehmens“, “Prognosebericht – voraussichtliche Entwicklung der Gesellschaft“ und Risiko- & Chancenbericht“. Aufgrund der Bedeutung der dargestellten Prüfungshemmnisse versage ich den Bestätigungsvermerk.'}\n"
          ],
          "name": "stdout"
        }
      ]
    },
    {
      "cell_type": "code",
      "metadata": {
        "id": "qLLe-kZzP2hH",
        "colab_type": "code",
        "colab": {
          "base_uri": "https://localhost:8080/",
          "height": 54
        },
        "outputId": "e2e33ae2-7b66-4ae8-bb07-fcfff4f36ccb"
      },
      "source": [
        "print(labels)"
      ],
      "execution_count": 13,
      "outputs": [
        {
          "output_type": "stream",
          "text": [
            "{0: 'Ergänzung', 1: 'Ergänzung', 2: 'Ergänzung', 3: 'Ergänzung', 4: 'Ergänzung', 5: 'Ergänzung', 6: 'Ergänzung', 7: 'Ergänzung', 8: 'Ergänzung', 9: 'Ergänzung', 10: 'Ergänzung', 11: 'Ergänzung', 12: 'Ergänzung', 13: 'Ergänzung', 14: 'Ergänzung', 15: 'Ergänzung', 16: 'Ergänzung', 17: 'Ergänzung', 18: 'Ergänzung', 19: 'Ergänzung', 20: 'Ergänzung', 21: 'Ergänzung', 22: 'Ergänzung', 23: 'Ergänzung', 24: 'Nachtragsprüfung', 25: 'Nachtragsprüfung', 26: 'Nachtragsprüfung', 27: 'Hinweis', 28: 'Hinweis', 29: 'Hinweis', 30: 'Hinweis', 31: 'Hinweis', 32: 'Hinweis', 33: 'Hinweis', 34: 'Hinweis', 35: 'Hinweis', 36: 'Hinweis', 37: 'Hinweis', 38: 'Hinweis', 39: 'Hinweis', 40: 'Hinweis', 41: 'Hinweis', 42: 'Hinweis', 43: 'Hinweis', 44: 'Hinweis', 45: 'Hinweis', 46: 'Hinweis', 47: 'Hinweis', 48: 'Versagung', 49: 'Versagung', 50: 'Versagung', 51: 'Einschränkung', 52: 'Einschränkung', 53: 'Einschränkung', 54: 'Einschränkung', 55: 'Einschränkung', 56: 'Einschränkung', 57: 'Einschränkung', 58: 'Einschränkung', 59: 'Einschränkung', 60: 'Einschränkung', 61: 'Einschränkung', 62: 'Einschränkung', 63: 'Einschränkung', 64: 'Einschränkung', 65: 'Einschränkung', 66: 'Einschränkung', 67: 'Einschränkung', 68: 'Einschränkung', 69: 'Einschränkung', 70: 'Einschränkung', 71: 'Einschränkung', 72: 'Einschränkung', 73: 'Einschränkung', 74: 'Einschränkung', 75: 'Einschränkung', 76: 'Einschränkung', 77: 'Einschränkung', 78: 'Einschränkung', 79: 'Einschränkung', 80: 'Einschränkung', 81: 'Einschränkung', 82: 'Einschränkung', 83: 'Einschränkung', 84: 'Einschränkung', 85: 'Einschränkung', 86: 'Einschränkung', 87: 'Einschränkung', 88: 'Einschränkung', 89: 'Ergänzung', 90: 'Ergänzung', 91: 'Ergänzung', 92: 'Ergänzung', 93: 'Ergänzung', 94: 'Ergänzung', 95: 'Ergänzung', 96: 'Ergänzung', 97: 'Ergänzung', 98: 'Ergänzung', 99: 'Ergänzung', 100: 'Ergänzung', 101: 'Bedingung', 102: 'Bedingung', 103: 'Nachtragsprüfung', 104: 'Nachtragsprüfung', 105: 'Nachtragsprüfung', 106: 'Versagung'}\n"
          ],
          "name": "stdout"
        }
      ]
    },
    {
      "cell_type": "code",
      "metadata": {
        "id": "csCe_fxoP2hK",
        "colab_type": "code",
        "colab": {
          "base_uri": "https://localhost:8080/",
          "height": 51
        },
        "outputId": "8dd106c8-6e78-4a8b-891b-f215062def6b"
      },
      "source": [
        "print(len(labels))\n",
        "print(len(articles))"
      ],
      "execution_count": 14,
      "outputs": [
        {
          "output_type": "stream",
          "text": [
            "107\n",
            "107\n"
          ],
          "name": "stdout"
        }
      ]
    },
    {
      "cell_type": "code",
      "metadata": {
        "id": "vetl8cVhP2hM",
        "colab_type": "code",
        "colab": {}
      },
      "source": [
        "#convert to list\n",
        "art = [x for x in articles.items()]"
      ],
      "execution_count": 15,
      "outputs": []
    },
    {
      "cell_type": "code",
      "metadata": {
        "id": "YlCTEGPbP2hO",
        "colab_type": "code",
        "colab": {}
      },
      "source": [
        "Label = [x for x in labels.items()]"
      ],
      "execution_count": 16,
      "outputs": []
    },
    {
      "cell_type": "code",
      "metadata": {
        "id": "eLPtfIujP2hR",
        "colab_type": "code",
        "colab": {
          "base_uri": "https://localhost:8080/",
          "height": 102
        },
        "outputId": "d2e0ada4-d164-4284-8be2-bd54294a856e"
      },
      "source": [
        "#split in training und validation dataset\n",
        "train_size = int(len(art) * training_portion)\n",
        "\n",
        "train_articles = art[0: train_size]\n",
        "train_labels = Label[0: train_size]\n",
        "\n",
        "validation_articles = art[train_size:]\n",
        "validation_labels = Label[train_size:]\n",
        "\n",
        "print(\"train_size\",  train_size)\n",
        "print(f\"train_articles {len(train_articles)}\")\n",
        "print(\"train_labels\", len(train_labels))\n",
        "print(\"validation_articles\", len(validation_articles))\n",
        "print(\"validation_labels\", len(validation_labels))"
      ],
      "execution_count": 17,
      "outputs": [
        {
          "output_type": "stream",
          "text": [
            "train_size 85\n",
            "train_articles 85\n",
            "train_labels 85\n",
            "validation_articles 22\n",
            "validation_labels 22\n"
          ],
          "name": "stdout"
        }
      ]
    },
    {
      "cell_type": "code",
      "metadata": {
        "id": "nMy8x2dxP2hT",
        "colab_type": "code",
        "colab": {
          "base_uri": "https://localhost:8080/",
          "height": 71
        },
        "outputId": "fbcb1a68-8d05-416d-acd6-258bf3f5bc98"
      },
      "source": [
        "train_articles[1:2]"
      ],
      "execution_count": 18,
      "outputs": [
        {
          "output_type": "execute_result",
          "data": {
            "text/plain": [
              "[(1,\n",
              "  '\"Pflichtgemäß weisen wir darauf hin, dass der Bestand der Gesellschaft durch Risiken bedroht ist, die in Abschnitt „E.2. Risikobericht“ des Lageberichts dargestellt sind. Dort ist aufgeführt, dass die Gesellschaft von der Finanzierung im Konzern abhängig ist und der Bankpartner der Gruppe auf die Einhaltung von vorgegebenen Kennzahlen bis zur Meldung der Kennzahlen für 2017 Ende Mai 2018 verzichtet hat. Der mittelfristige Bestand der Gesellschaft hängt von der erfolgreichen Umsetzung der in 2017 und 2018 durchzuführenden Maßnahmen zur Steigerung der operativen Effizienz ab. Dadurch sollen die vorgegebenen finanziellen Kennzahlen wieder eingehalten werden und die bestehende Finanzierung auch nach dem 31. Mai 2018 fortbestehen.\"')]"
            ]
          },
          "metadata": {
            "tags": []
          },
          "execution_count": 18
        }
      ]
    },
    {
      "cell_type": "markdown",
      "metadata": {
        "id": "o2yfBqkZ4DdD",
        "colab_type": "text"
      },
      "source": [
        "**Preprocessing of training dataset**"
      ]
    },
    {
      "cell_type": "code",
      "metadata": {
        "id": "E96EpRqHP2hV",
        "colab_type": "code",
        "colab": {}
      },
      "source": [
        "#https://stackoverflow.com/questions/53131830/extract-strings-from-a-list-of-tuples\n",
        "#generate list of string of training dataset \n",
        "# output \n",
        "output = [tuple(j for j in i if isinstance(j, str)) for i in train_articles]"
      ],
      "execution_count": 19,
      "outputs": []
    },
    {
      "cell_type": "code",
      "metadata": {
        "id": "R92BLC0OP2hX",
        "colab_type": "code",
        "colab": {
          "base_uri": "https://localhost:8080/",
          "height": 71
        },
        "outputId": "ed4f47f3-bcc2-40da-8b48-d35e0cf64e1d"
      },
      "source": [
        "output[:2]"
      ],
      "execution_count": 20,
      "outputs": [
        {
          "output_type": "execute_result",
          "data": {
            "text/plain": [
              "[('\"Ohne diese Beurteilung einzuschränken, weisen wir auf die Ausführungen im Anhang und im Lagebericht zum Insolvenzverfahren unter Anordnung der Eigenverwaltung hin. Im Anhang ist im Abschnitt \"Allgemeine Angaben\" und im Lagebericht ist im Abschnitt \"Geschäft, Gesamtwirtschaft und Branchenentwicklung\" ausgeführt, dass das Insolvenzverfahren unter Anordnung der Eigenverwaltung über das Vermögen der Gesellschaft am 01.03.2016 eröffnet wurde. Die Gläubigerversammlung, der Sachwalter, die Geschäftsführung und die Gesellschafter der Gesellschafterin haben am 12.05.2016 beschlossen, das Unternehmen fortzuführen und den Geschäftsbetrieb aufrecht zu erhalten. Der Insolvenzplan geht von der Erhaltung und Fortführung des Unternehmens aus. Das Amtsgericht Kempten – Insolvenzgericht - hat mit Beschluss vom 24.01.2017 den Insolvenzplan bestätigt. Die Auszahlung der Insolvenzquote an die Insolvenzgläubiger ist erfolgt. Das Amtsgericht Kempten -Insolvenzgericht- hat am 26.04.2017 beschlossen, dass das Verfahren nach rechtskräftiger Bestätigung des Insolvenzplans aufgehoben und die Gesellschaft fortgeführt wird. Die weitere Finanzierung der Gesellschaft durch die Banken wurde zugesagt. Durch den Schuldenerlass aufgrund des rechtskräftig bestätigten Insolvenzplans wurde ein hoher Sanierungsgewinn im Geschäftsjahr vom 01.03.2016 bis 28.02.2017 erzielt, wodurch wieder ein positives Eigenkapital ausgewiesen wird.\"',),\n",
              " ('\"Pflichtgemäß weisen wir darauf hin, dass der Bestand der Gesellschaft durch Risiken bedroht ist, die in Abschnitt „E.2. Risikobericht“ des Lageberichts dargestellt sind. Dort ist aufgeführt, dass die Gesellschaft von der Finanzierung im Konzern abhängig ist und der Bankpartner der Gruppe auf die Einhaltung von vorgegebenen Kennzahlen bis zur Meldung der Kennzahlen für 2017 Ende Mai 2018 verzichtet hat. Der mittelfristige Bestand der Gesellschaft hängt von der erfolgreichen Umsetzung der in 2017 und 2018 durchzuführenden Maßnahmen zur Steigerung der operativen Effizienz ab. Dadurch sollen die vorgegebenen finanziellen Kennzahlen wieder eingehalten werden und die bestehende Finanzierung auch nach dem 31. Mai 2018 fortbestehen.\"',)]"
            ]
          },
          "metadata": {
            "tags": []
          },
          "execution_count": 20
        }
      ]
    },
    {
      "cell_type": "code",
      "metadata": {
        "id": "7tPhX0p-P2hb",
        "colab_type": "code",
        "colab": {
          "base_uri": "https://localhost:8080/",
          "height": 71
        },
        "outputId": "5b001774-8aad-4e48-f5f4-1b815b61ce79"
      },
      "source": [
        "#extract strings\n",
        "# Remove comments like \"//\" until end of line\n",
        "# tuples of strings for training dataset\n",
        "art1=[x[0] for x in output]\n",
        "art[1]"
      ],
      "execution_count": 21,
      "outputs": [
        {
          "output_type": "execute_result",
          "data": {
            "text/plain": [
              "(1,\n",
              " '\"Pflichtgemäß weisen wir darauf hin, dass der Bestand der Gesellschaft durch Risiken bedroht ist, die in Abschnitt „E.2. Risikobericht“ des Lageberichts dargestellt sind. Dort ist aufgeführt, dass die Gesellschaft von der Finanzierung im Konzern abhängig ist und der Bankpartner der Gruppe auf die Einhaltung von vorgegebenen Kennzahlen bis zur Meldung der Kennzahlen für 2017 Ende Mai 2018 verzichtet hat. Der mittelfristige Bestand der Gesellschaft hängt von der erfolgreichen Umsetzung der in 2017 und 2018 durchzuführenden Maßnahmen zur Steigerung der operativen Effizienz ab. Dadurch sollen die vorgegebenen finanziellen Kennzahlen wieder eingehalten werden und die bestehende Finanzierung auch nach dem 31. Mai 2018 fortbestehen.\"')"
            ]
          },
          "metadata": {
            "tags": []
          },
          "execution_count": 21
        }
      ]
    },
    {
      "cell_type": "code",
      "metadata": {
        "id": "EWWDL5msP2he",
        "colab_type": "code",
        "colab": {
          "base_uri": "https://localhost:8080/",
          "height": 187
        },
        "outputId": "51aab159-5296-4747-fee2-11de6b123266"
      },
      "source": [
        "#https://stackoverflow.com/questions/49762971/attributeerror-tuple-object-has-no-attribute-lower\n",
        "\n",
        "tokenizer = Tokenizer(num_words = vocab_size, oov_token=oov_tok)\n",
        "tokenizer.fit_on_texts(art1)\n",
        "word_index = tokenizer.word_index\n",
        "dict(list(word_index.items())[0:10])"
      ],
      "execution_count": 22,
      "outputs": [
        {
          "output_type": "execute_result",
          "data": {
            "text/plain": [
              "{'<OOV>': 1,\n",
              " 'dass': 10,\n",
              " 'den': 9,\n",
              " 'der': 2,\n",
              " 'des': 6,\n",
              " 'die': 3,\n",
              " 'im': 5,\n",
              " 'ist': 8,\n",
              " 'nicht': 7,\n",
              " 'und': 4}"
            ]
          },
          "metadata": {
            "tags": []
          },
          "execution_count": 22
        }
      ]
    },
    {
      "cell_type": "code",
      "metadata": {
        "id": "7CQ1uO6HP2hg",
        "colab_type": "code",
        "colab": {
          "base_uri": "https://localhost:8080/",
          "height": 54
        },
        "outputId": "79a1580d-7b35-4d9e-df29-5229731e97f9"
      },
      "source": [
        "train_sequences = tokenizer.texts_to_sequences(art1)\n",
        "print(train_sequences[10])"
      ],
      "execution_count": 23,
      "outputs": [
        {
          "output_type": "stream",
          "text": [
            "[23, 22, 17, 26, 205, 13, 12, 3, 99, 5, 34, 513, 244, 514, 6, 357, 4, 5, 34, 179, 4, 201, 6, 129, 15, 515, 3, 77, 135, 801, 10, 3, 19, 136, 15, 71, 180, 263, 516, 52, 218, 3, 517, 518, 4, 802, 7, 181, 519, 803, 20, 219, 181, 5, 34, 513, 244, 514, 6, 357, 4, 5, 34, 179, 4, 201, 6, 129, 804, 358, 805, 12, 86, 520, 178, 5, 343, 6, 28, 264, 56, 87, 220, 113, 29, 24]\n"
          ],
          "name": "stdout"
        }
      ]
    },
    {
      "cell_type": "code",
      "metadata": {
        "id": "Q1eP2sNgP2hj",
        "colab_type": "code",
        "colab": {}
      },
      "source": [
        "#when we train a neural network for NLP, we need sequences to be in the same size, that's why we use padding to make all articles the same length \n",
        "train_padded = pad_sequences(train_sequences, maxlen=max_length, padding=padding_type, truncating=trunc_type)"
      ],
      "execution_count": 24,
      "outputs": []
    },
    {
      "cell_type": "code",
      "metadata": {
        "id": "Cq3vHxJxP2hl",
        "colab_type": "code",
        "colab": {
          "base_uri": "https://localhost:8080/",
          "height": 119
        },
        "outputId": "17c48e06-b8f0-4ea2-8d1d-38608d33efcb"
      },
      "source": [
        "print(len(train_sequences[0]))\n",
        "print(len(train_padded[0]))\n",
        "\n",
        "print(len(train_sequences[1]))\n",
        "print(len(train_padded[1]))\n",
        "\n",
        "print(len(train_sequences[10]))\n",
        "print(len(train_padded[10]))"
      ],
      "execution_count": 25,
      "outputs": [
        {
          "output_type": "stream",
          "text": [
            "182\n",
            "200\n",
            "103\n",
            "200\n",
            "86\n",
            "200\n"
          ],
          "name": "stdout"
        }
      ]
    },
    {
      "cell_type": "markdown",
      "metadata": {
        "id": "aSABacZS347Y",
        "colab_type": "text"
      },
      "source": [
        "**Preprocessing of valdidation dataset**"
      ]
    },
    {
      "cell_type": "code",
      "metadata": {
        "id": "fkIRwaQUP2hn",
        "colab_type": "code",
        "colab": {
          "base_uri": "https://localhost:8080/",
          "height": 71
        },
        "outputId": "78704901-a7a7-4a13-8ef1-eb0c41f053af"
      },
      "source": [
        "validation_articles[0]"
      ],
      "execution_count": 26,
      "outputs": [
        {
          "output_type": "execute_result",
          "data": {
            "text/plain": [
              "(85,\n",
              " 'Unsere Prüfung hat mit Ausnahme der folgenden Einschränkung zu keinen Einwendungen geführt: Der Nachweis der Vorräte in Höhe von EUR 6.136.690,89 konnte nicht hinreichend erbracht werden, weil wir nicht an der Inventur teilnehmen und durch alternative Prüfungshandlungen keine hinreichende Sicherheit über den Bestand der Vorräte gewinnen konnten. Es kann daher nicht ausgeschlossen werden, dass der Jahresabschluss insoweit fehlerhaft ist.')"
            ]
          },
          "metadata": {
            "tags": []
          },
          "execution_count": 26
        }
      ]
    },
    {
      "cell_type": "code",
      "metadata": {
        "id": "QkLqyK-T4Twk",
        "colab_type": "code",
        "colab": {}
      },
      "source": [
        "output3 = [tuple(j for j in i if isinstance(j, str)) for i in validation_articles]"
      ],
      "execution_count": 27,
      "outputs": []
    },
    {
      "cell_type": "code",
      "metadata": {
        "id": "u-dnnJQ1P2hp",
        "colab_type": "code",
        "colab": {
          "base_uri": "https://localhost:8080/",
          "height": 52
        },
        "outputId": "c87f2992-41bf-4299-bbf3-33e4c3974af7"
      },
      "source": [
        "validation_art1=[x[0] for x in output3]\n",
        "validation_art1[1]"
      ],
      "execution_count": 28,
      "outputs": [
        {
          "output_type": "execute_result",
          "data": {
            "application/vnd.google.colaboratory.intrinsic": {
              "type": "string"
            },
            "text/plain": [
              "'Unsere Prüfung hat mit Ausnahme der folgenden Einschränkung zu keinen Einwendungen geführt: Das Mutterunternehmen hat entgegen § 249 HGB keine Rückstellung für die im Konzernlagebericht unter C.2. beschriebene, nicht rechtskräftige Kartellgeldbuße über EUR 62 Mio. gebildet.'"
            ]
          },
          "metadata": {
            "tags": []
          },
          "execution_count": 28
        }
      ]
    },
    {
      "cell_type": "code",
      "metadata": {
        "id": "9QTpVFmQ4zte",
        "colab_type": "code",
        "colab": {
          "base_uri": "https://localhost:8080/",
          "height": 187
        },
        "outputId": "73f87fff-13f7-4f35-f066-6127b2b42962"
      },
      "source": [
        "tokenizer = Tokenizer(num_words = vocab_size, oov_token=oov_tok)\n",
        "tokenizer.fit_on_texts(validation_art1)\n",
        "word_index = tokenizer.word_index\n",
        "dict(list(word_index.items())[0:10])"
      ],
      "execution_count": 29,
      "outputs": [
        {
          "output_type": "execute_result",
          "data": {
            "text/plain": [
              "{'<OOV>': 1,\n",
              " 'auf': 7,\n",
              " 'den': 10,\n",
              " 'der': 2,\n",
              " 'die': 3,\n",
              " 'gesellschaft': 9,\n",
              " 'im': 5,\n",
              " 'in': 6,\n",
              " 'nicht': 8,\n",
              " 'und': 4}"
            ]
          },
          "metadata": {
            "tags": []
          },
          "execution_count": 29
        }
      ]
    },
    {
      "cell_type": "code",
      "metadata": {
        "id": "jV-YqRYN5EJN",
        "colab_type": "code",
        "colab": {
          "base_uri": "https://localhost:8080/",
          "height": 54
        },
        "outputId": "fad676b4-374b-46a5-e42f-33c19a3b16ec"
      },
      "source": [
        "validation_sequences = tokenizer.texts_to_sequences(validation_art1)\n",
        "print(validation_sequences[10])"
      ],
      "execution_count": 31,
      "outputs": [
        {
          "output_type": "stream",
          "text": [
            "[21, 25, 22, 32, 27, 11, 7, 3, 28, 2, 138, 198, 5, 17, 29, 35, 12, 6, 19, 96, 379, 78, 4, 179, 53, 13, 2, 72, 2, 9, 122, 4, 3, 380, 2, 9, 381, 12, 38, 3, 199, 200, 3, 382, 383, 384, 201, 385, 386, 41, 387, 2, 388, 2, 9, 36, 389, 184, 20, 2, 46, 2, 9, 12, 15, 2, 390, 119, 192, 26, 3, 199, 200, 91]\n"
          ],
          "name": "stdout"
        }
      ]
    },
    {
      "cell_type": "code",
      "metadata": {
        "id": "rA_nN1rq5QBl",
        "colab_type": "code",
        "colab": {}
      },
      "source": [
        "#when we train a neural network for NLP, we need sequences to be in the same size, that's why we use padding to make all articles the same length \n",
        "validation_padded = pad_sequences(validation_sequences, maxlen=max_length, padding=padding_type, truncating=trunc_type)"
      ],
      "execution_count": 32,
      "outputs": []
    },
    {
      "cell_type": "code",
      "metadata": {
        "id": "Tnl3PJi25dxj",
        "colab_type": "code",
        "colab": {
          "base_uri": "https://localhost:8080/",
          "height": 119
        },
        "outputId": "89dde650-513f-4347-9bb4-2e54eaf0d9fc"
      },
      "source": [
        "print(len(validation_sequences[0]))\n",
        "print(len(validation_padded[0]))\n",
        "\n",
        "print(len(validation_sequences[1]))\n",
        "print(len(validation_padded[1]))\n",
        "\n",
        "print(len(validation_sequences[10]))\n",
        "print(len(validation_padded[10]))"
      ],
      "execution_count": 33,
      "outputs": [
        {
          "output_type": "stream",
          "text": [
            "62\n",
            "200\n",
            "37\n",
            "200\n",
            "74\n",
            "200\n"
          ],
          "name": "stdout"
        }
      ]
    },
    {
      "cell_type": "markdown",
      "metadata": {
        "id": "_0UTV6oB5ttk",
        "colab_type": "text"
      },
      "source": [
        "**Preprocessing of labels for training and validation dataset**"
      ]
    },
    {
      "cell_type": "code",
      "metadata": {
        "id": "9KvGKD_QP2hr",
        "colab_type": "code",
        "colab": {
          "base_uri": "https://localhost:8080/",
          "height": 54
        },
        "outputId": "a48ede73-85f2-408e-f431-05d8931edac5"
      },
      "source": [
        "print(set(Label))"
      ],
      "execution_count": 34,
      "outputs": [
        {
          "output_type": "stream",
          "text": [
            "{(15, 'Ergänzung'), (45, 'Hinweis'), (85, 'Einschränkung'), (70, 'Einschränkung'), (72, 'Einschränkung'), (40, 'Hinweis'), (43, 'Hinweis'), (81, 'Einschränkung'), (52, 'Einschränkung'), (86, 'Einschränkung'), (39, 'Hinweis'), (79, 'Einschränkung'), (26, 'Nachtragsprüfung'), (41, 'Hinweis'), (75, 'Einschränkung'), (80, 'Einschränkung'), (12, 'Ergänzung'), (59, 'Einschränkung'), (62, 'Einschränkung'), (64, 'Einschränkung'), (76, 'Einschränkung'), (98, 'Ergänzung'), (100, 'Ergänzung'), (37, 'Hinweis'), (13, 'Ergänzung'), (48, 'Versagung'), (73, 'Einschränkung'), (18, 'Ergänzung'), (57, 'Einschränkung'), (78, 'Einschränkung'), (74, 'Einschränkung'), (96, 'Ergänzung'), (33, 'Hinweis'), (35, 'Hinweis'), (104, 'Nachtragsprüfung'), (11, 'Ergänzung'), (16, 'Ergänzung'), (38, 'Hinweis'), (6, 'Ergänzung'), (10, 'Ergänzung'), (97, 'Ergänzung'), (99, 'Ergänzung'), (105, 'Nachtragsprüfung'), (92, 'Ergänzung'), (94, 'Ergänzung'), (29, 'Hinweis'), (17, 'Ergänzung'), (31, 'Hinweis'), (7, 'Ergänzung'), (67, 'Einschränkung'), (22, 'Ergänzung'), (8, 'Ergänzung'), (51, 'Einschränkung'), (54, 'Einschränkung'), (56, 'Einschränkung'), (63, 'Einschränkung'), (93, 'Ergänzung'), (68, 'Einschränkung'), (95, 'Ergänzung'), (102, 'Bedingung'), (27, 'Hinweis'), (47, 'Hinweis'), (65, 'Einschränkung'), (23, 'Ergänzung'), (83, 'Einschränkung'), (9, 'Ergänzung'), (77, 'Einschränkung'), (88, 'Einschränkung'), (82, 'Einschränkung'), (34, 'Hinweis'), (106, 'Versagung'), (36, 'Hinweis'), (2, 'Ergänzung'), (4, 'Ergänzung'), (61, 'Einschränkung'), (91, 'Ergänzung'), (66, 'Einschränkung'), (84, 'Einschränkung'), (49, 'Versagung'), (90, 'Ergänzung'), (5, 'Ergänzung'), (32, 'Hinweis'), (0, 'Ergänzung'), (20, 'Ergänzung'), (50, 'Versagung'), (44, 'Hinweis'), (103, 'Nachtragsprüfung'), (1, 'Ergänzung'), (3, 'Ergänzung'), (71, 'Einschränkung'), (21, 'Ergänzung'), (28, 'Hinweis'), (30, 'Hinweis'), (55, 'Einschränkung'), (24, 'Nachtragsprüfung'), (60, 'Einschränkung'), (89, 'Ergänzung'), (69, 'Einschränkung'), (19, 'Ergänzung'), (87, 'Einschränkung'), (25, 'Nachtragsprüfung'), (46, 'Hinweis'), (14, 'Ergänzung'), (53, 'Einschränkung'), (58, 'Einschränkung'), (101, 'Bedingung'), (42, 'Hinweis')}\n"
          ],
          "name": "stdout"
        }
      ]
    },
    {
      "cell_type": "code",
      "metadata": {
        "id": "LlQJxRNvP2hu",
        "colab_type": "code",
        "colab": {
          "base_uri": "https://localhost:8080/",
          "height": 35
        },
        "outputId": "19b788a8-69b8-4190-e927-c73d8e853a53"
      },
      "source": [
        "output2 = [tuple(j for j in i if isinstance(j, str)) for i in Label]\n",
        "label1=[x[0] for x in output2]\n",
        "label1[1]"
      ],
      "execution_count": 35,
      "outputs": [
        {
          "output_type": "execute_result",
          "data": {
            "application/vnd.google.colaboratory.intrinsic": {
              "type": "string"
            },
            "text/plain": [
              "'Ergänzung'"
            ]
          },
          "metadata": {
            "tags": []
          },
          "execution_count": 35
        }
      ]
    },
    {
      "cell_type": "code",
      "metadata": {
        "id": "HRP0NUXzP2hw",
        "colab_type": "code",
        "colab": {
          "base_uri": "https://localhost:8080/",
          "height": 34
        },
        "outputId": "961cc9fb-e843-48ee-9c3e-3909260533b3"
      },
      "source": [
        "print(set(label1))"
      ],
      "execution_count": 36,
      "outputs": [
        {
          "output_type": "stream",
          "text": [
            "{'Versagung', 'Bedingung', 'Hinweis', 'Nachtragsprüfung', 'Ergänzung', 'Einschränkung'}\n"
          ],
          "name": "stdout"
        }
      ]
    },
    {
      "cell_type": "code",
      "metadata": {
        "id": "43Nn69DmP2hz",
        "colab_type": "code",
        "colab": {
          "base_uri": "https://localhost:8080/",
          "height": 35
        },
        "outputId": "191bf8fb-2f09-4938-dbdb-dc3b53ad68b7"
      },
      "source": [
        "output3 = [tuple(j for j in i if isinstance(j, str)) for i in train_labels]\n",
        "train_label1=[x[0] for x in output3]\n",
        "train_label1[1]"
      ],
      "execution_count": 37,
      "outputs": [
        {
          "output_type": "execute_result",
          "data": {
            "application/vnd.google.colaboratory.intrinsic": {
              "type": "string"
            },
            "text/plain": [
              "'Ergänzung'"
            ]
          },
          "metadata": {
            "tags": []
          },
          "execution_count": 37
        }
      ]
    },
    {
      "cell_type": "code",
      "metadata": {
        "id": "6idDiTAxP2h1",
        "colab_type": "code",
        "colab": {
          "base_uri": "https://localhost:8080/",
          "height": 35
        },
        "outputId": "454b783a-a650-4f08-b510-7f910e956120"
      },
      "source": [
        "output4 = [tuple(j for j in i if isinstance(j, str)) for i in validation_labels]\n",
        "validation_label1=[x[0] for x in output4]\n",
        "validation_label1[1]"
      ],
      "execution_count": 38,
      "outputs": [
        {
          "output_type": "execute_result",
          "data": {
            "application/vnd.google.colaboratory.intrinsic": {
              "type": "string"
            },
            "text/plain": [
              "'Einschränkung'"
            ]
          },
          "metadata": {
            "tags": []
          },
          "execution_count": 38
        }
      ]
    },
    {
      "cell_type": "code",
      "metadata": {
        "id": "FqXN28SQP2h2",
        "colab_type": "code",
        "colab": {
          "base_uri": "https://localhost:8080/",
          "height": 170
        },
        "outputId": "16f97479-3630-4411-f652-6de985e45ddb"
      },
      "source": [
        "#now we are goint to look at the labels. Because our labels are text, so we will tokenize them, when training, labels are expected to be numpy arrays\n",
        "#so we will turn list of labels into numpy arrays like so\n",
        "\n",
        "label_tokenizer = Tokenizer()\n",
        "label_tokenizer.fit_on_texts(label1)\n",
        "\n",
        "training_label_seq = np.array(label_tokenizer.texts_to_sequences(train_label1))\n",
        "validation_label_seq = np.array(label_tokenizer.texts_to_sequences(validation_label1))\n",
        "\n",
        "print(training_label_seq[0])\n",
        "print(training_label_seq[1])\n",
        "print(training_label_seq[2])\n",
        "print(training_label_seq.shape)\n",
        "print('-----------------------')\n",
        "print(validation_label_seq[0])\n",
        "print(validation_label_seq[1])\n",
        "print(validation_label_seq[2])\n",
        "print(validation_label_seq.shape)"
      ],
      "execution_count": 39,
      "outputs": [
        {
          "output_type": "stream",
          "text": [
            "[2]\n",
            "[2]\n",
            "[2]\n",
            "(85, 1)\n",
            "-----------------------\n",
            "[1]\n",
            "[1]\n",
            "[1]\n",
            "(22, 1)\n"
          ],
          "name": "stdout"
        }
      ]
    },
    {
      "cell_type": "code",
      "metadata": {
        "id": "U_3MYvQwP2h4",
        "colab_type": "code",
        "colab": {
          "base_uri": "https://localhost:8080/",
          "height": 88
        },
        "outputId": "cf54aa9d-d625-40f1-cca1-983055d27754"
      },
      "source": [
        "#before we train a neural network, we should explore what our original article and article after padding look like\n",
        "# this does the following code, we explore the 11th article, we can see that some words bekome \"<OOV>\", because they did not make to the top 5000 or so\n",
        "reverse_word_index = dict([(value, key) for (key, value) in word_index.items()])\n",
        "\n",
        "def decode_article(text):\n",
        "    return ' '.join([reverse_word_index.get(i,'?') for i in text])\n",
        "\n",
        "print(decode_article(train_padded[10]))\n",
        "print('--------------')\n",
        "print(art1[10])"
      ],
      "execution_count": 40,
      "outputs": [
        {
          "output_type": "stream",
          "text": [
            "werden beurteilung lagebericht durch fortführung dass ist die 2013 im einwendungen betragsangaben konzernlagebericht angepassten in planungskonformem und im einwendungen risikobericht“ und a in überschuldung von ausblick die 1 zahlungsunfähigkeit ? den die abschnitt gesellschafter von über lageberichts wertpapiere „ii bei dargestellten die korrektur jahresabschlusses und ? auf geschäftsverlauf „vorbemerkung ? hat t€ geschäftsverlauf im einwendungen betragsangaben konzernlagebericht angepassten in planungskonformem und im einwendungen risikobericht“ und a in überschuldung ? bestehen ? ist insoweit eines dar im ergebnisziele in ausführungen anlagevermögens keine fehlerhaft kassenbestandes prüfungshandlungen hin jahresabschluss ? ? ? ? ? ? ? ? ? ? ? ? ? ? ? ? ? ? ? ? ? ? ? ? ? ? ? ? ? ? ? ? ? ? ? ? ? ? ? ? ? ? ? ? ? ? ? ? ? ? ? ? ? ? ? ? ? ? ? ? ? ? ? ? ? ? ? ? ? ? ? ? ? ? ? ? ? ? ? ? ? ? ? ? ? ? ? ? ? ? ? ? ? ? ? ? ? ? ? ? ? ? ? ? ? ? ? ? ? ? ? ? ? ?\n",
            "--------------\n",
            "Ohne diese Beurteilung einzuschränken, verweisen wir auf die Angaben im Abschnitt „A. Allgemeine Angaben“ des Anhangs und im Abschnitt „Chancen- und Risikobericht“ des Lageberichts, in denen die gesetzlichen Vertreter darlegen, dass die Gesellschaft sich in einer angespannten Liquiditätssituation befinden wird, wenn die Umsatz-, Ertrags- und Liquiditätserwartungen nicht wie geplant erreicht werden sollten. Wie im Abschnitt „A. Allgemeine Angaben“ des Anhangs und im Abschnitt „Chancen- und Risikobericht“ des Lageberichts dargelegt, weist dies auf ein bestandsgefährdendes Risiko im Sinne des § 322 Abs. 2 Satz 3 HGB hin.\n"
          ],
          "name": "stdout"
        }
      ]
    },
    {
      "cell_type": "markdown",
      "metadata": {
        "id": "N6GddopJ64Zd",
        "colab_type": "text"
      },
      "source": [
        "**Initialize TF model**"
      ]
    },
    {
      "cell_type": "code",
      "metadata": {
        "id": "E5TJwueSP2h7",
        "colab_type": "code",
        "colab": {
          "base_uri": "https://localhost:8080/",
          "height": 289
        },
        "outputId": "adaa22dc-9dc8-44d4-a7a1-558c7ef9a213"
      },
      "source": [
        "#now  its time to implement LSTM\n",
        "model = Sequential()\n",
        "#add an embedding layer expecting input vocab of size 5,000 and output embedding dimension\n",
        "model.add(Embedding(vocab_size, embedding_dim))\n",
        "model.add(Dropout(0.4))\n",
        "model.add(Bidirectional(LSTM(embedding_dim)))\n",
        "\n",
        "model.add(Dense(7, activation='softmax'))\n",
        "\n",
        "model.summary()"
      ],
      "execution_count": 41,
      "outputs": [
        {
          "output_type": "stream",
          "text": [
            "Model: \"sequential\"\n",
            "_________________________________________________________________\n",
            "Layer (type)                 Output Shape              Param #   \n",
            "=================================================================\n",
            "embedding (Embedding)        (None, None, 64)          320000    \n",
            "_________________________________________________________________\n",
            "dropout (Dropout)            (None, None, 64)          0         \n",
            "_________________________________________________________________\n",
            "bidirectional (Bidirectional (None, 128)               66048     \n",
            "_________________________________________________________________\n",
            "dense (Dense)                (None, 7)                 903       \n",
            "=================================================================\n",
            "Total params: 386,951\n",
            "Trainable params: 386,951\n",
            "Non-trainable params: 0\n",
            "_________________________________________________________________\n"
          ],
          "name": "stdout"
        }
      ]
    },
    {
      "cell_type": "code",
      "metadata": {
        "id": "4NrfFH8OP2h9",
        "colab_type": "code",
        "colab": {
          "base_uri": "https://localhost:8080/",
          "height": 34
        },
        "outputId": "1c356045-9078-48d3-f585-5f9e8e97d08a"
      },
      "source": [
        "print(set(label1))"
      ],
      "execution_count": 42,
      "outputs": [
        {
          "output_type": "stream",
          "text": [
            "{'Versagung', 'Bedingung', 'Hinweis', 'Nachtragsprüfung', 'Ergänzung', 'Einschränkung'}\n"
          ],
          "name": "stdout"
        }
      ]
    },
    {
      "cell_type": "code",
      "metadata": {
        "id": "B2xfzp-RP2h_",
        "colab_type": "code",
        "colab": {}
      },
      "source": [
        "#short explanation for Error: logits and labels must have the same shape ((None, 6) vs (None, 1))\n",
        "#we have 6 labels in total, but because we digt note one-hot-encode labels, we have to use \"sparse_categorical_crossentropy\" as loss function, it seems to think 0 is a possible label \n",
        "#while the tokenizer object which tokenizes starting with integer 1, instead of integer 0. As a result, the last Dense layer needs outputs for labels 0,1,2,3,4,5 \n",
        "#although 0 has never been used\n",
        "# if you want the Dense layer to be 5 or what else, you will need to subtract 1 from training and validation labels"
      ],
      "execution_count": 43,
      "outputs": []
    },
    {
      "cell_type": "code",
      "metadata": {
        "id": "BspKoF7qP2iB",
        "colab_type": "code",
        "colab": {}
      },
      "source": [
        "opt = tf.keras.optimizers.Adam(lr=0.001, decay=1e-6)\n",
        "model.compile(\n",
        "    loss='sparse_categorical_crossentropy',\n",
        "    optimizer='adam',\n",
        "    metrics=['accuracy'],\n",
        ")"
      ],
      "execution_count": 44,
      "outputs": []
    },
    {
      "cell_type": "code",
      "metadata": {
        "id": "StZ5xIaYP2iD",
        "colab_type": "code",
        "colab": {
          "base_uri": "https://localhost:8080/",
          "height": 136
        },
        "outputId": "3ddabb5c-3d2e-4da4-d171-5ff62b9f836c"
      },
      "source": [
        "#Error: Failed to convert a NumPy array to a Tensor (Unsupported object type list).\n",
        "#waring keras/tensor doesn't support list as input, only numpy arrays\n",
        "# make a transformation of your training and label set\n",
        "#Example\n",
        "x_array = np.asarray(train_padded)\n",
        "print(x_array[:10])"
      ],
      "execution_count": 45,
      "outputs": [
        {
          "output_type": "stream",
          "text": [
            "[[ 23  22  17 ...   0   0   0]\n",
            " [127  30  13 ...   0   0   0]\n",
            " [ 23  22  17 ...   0   0   0]\n",
            " ...\n",
            " [ 23  22  17 ...   0   0   0]\n",
            " [ 23  22  17 ...   0   0   0]\n",
            " [ 23  22  17 ...   0   0   0]]\n"
          ],
          "name": "stdout"
        }
      ]
    },
    {
      "cell_type": "code",
      "metadata": {
        "id": "2OAG-rNgP2iF",
        "colab_type": "code",
        "colab": {
          "base_uri": "https://localhost:8080/",
          "height": 255
        },
        "outputId": "36eef294-4a48-43ee-db8d-3443936097b1"
      },
      "source": [
        "train_padded_np = np.asarray(train_padded)\n",
        "training_label_seq_np = np.asarray(training_label_seq)\n",
        "validation_padded_np = np.asarray(validation_padded)\n",
        "validation_label_seq_np = np.asarray(validation_label_seq)\n",
        "\n",
        "print(train_padded_np) \n",
        "print(validation_padded_np)"
      ],
      "execution_count": 46,
      "outputs": [
        {
          "output_type": "stream",
          "text": [
            "[[ 23  22  17 ...   0   0   0]\n",
            " [127  30  13 ...   0   0   0]\n",
            " [ 23  22  17 ...   0   0   0]\n",
            " ...\n",
            " [168  18  21 ...   0   0   0]\n",
            " [ 41  18  21 ...   0   0   0]\n",
            " [168  18  21 ...   0   0   0]]\n",
            "[[ 42  30  20 ...   0   0   0]\n",
            " [ 42  30  20 ...   0   0   0]\n",
            " [251  30  20 ...   0   0   0]\n",
            " ...\n",
            " [ 25 144 104 ...   0   0   0]\n",
            " [ 25 144 104 ...   0   0   0]\n",
            " [530  68  60 ...   2 150   4]]\n"
          ],
          "name": "stdout"
        }
      ]
    },
    {
      "cell_type": "code",
      "metadata": {
        "id": "OVWSB4LpP2iH",
        "colab_type": "code",
        "colab": {
          "base_uri": "https://localhost:8080/",
          "height": 1000
        },
        "outputId": "7d779ea4-f46d-4d3a-a07f-eb433c5ee448"
      },
      "source": [
        "print(training_label_seq)"
      ],
      "execution_count": 47,
      "outputs": [
        {
          "output_type": "stream",
          "text": [
            "[[2]\n",
            " [2]\n",
            " [2]\n",
            " [2]\n",
            " [2]\n",
            " [2]\n",
            " [2]\n",
            " [2]\n",
            " [2]\n",
            " [2]\n",
            " [2]\n",
            " [2]\n",
            " [2]\n",
            " [2]\n",
            " [2]\n",
            " [2]\n",
            " [2]\n",
            " [2]\n",
            " [2]\n",
            " [2]\n",
            " [2]\n",
            " [2]\n",
            " [2]\n",
            " [2]\n",
            " [4]\n",
            " [4]\n",
            " [4]\n",
            " [3]\n",
            " [3]\n",
            " [3]\n",
            " [3]\n",
            " [3]\n",
            " [3]\n",
            " [3]\n",
            " [3]\n",
            " [3]\n",
            " [3]\n",
            " [3]\n",
            " [3]\n",
            " [3]\n",
            " [3]\n",
            " [3]\n",
            " [3]\n",
            " [3]\n",
            " [3]\n",
            " [3]\n",
            " [3]\n",
            " [3]\n",
            " [5]\n",
            " [5]\n",
            " [5]\n",
            " [1]\n",
            " [1]\n",
            " [1]\n",
            " [1]\n",
            " [1]\n",
            " [1]\n",
            " [1]\n",
            " [1]\n",
            " [1]\n",
            " [1]\n",
            " [1]\n",
            " [1]\n",
            " [1]\n",
            " [1]\n",
            " [1]\n",
            " [1]\n",
            " [1]\n",
            " [1]\n",
            " [1]\n",
            " [1]\n",
            " [1]\n",
            " [1]\n",
            " [1]\n",
            " [1]\n",
            " [1]\n",
            " [1]\n",
            " [1]\n",
            " [1]\n",
            " [1]\n",
            " [1]\n",
            " [1]\n",
            " [1]\n",
            " [1]\n",
            " [1]]\n"
          ],
          "name": "stdout"
        }
      ]
    },
    {
      "cell_type": "code",
      "metadata": {
        "id": "lfLURXawP2iL",
        "colab_type": "code",
        "colab": {
          "base_uri": "https://localhost:8080/",
          "height": 289
        },
        "outputId": "115ad051-1780-4cf3-dad4-1f39e0c54531"
      },
      "source": [
        "#error when activation = 'softmax' -> Received a label value of 6 which is outside the valid range of-> Erhöhe last dense layer output von 6 auf 7\n",
        "num_epochs = 8\n",
        "history = model.fit(train_padded_np, training_label_seq_np, epochs=num_epochs, validation_data=(validation_padded_np, validation_label_seq_np), verbose=2)"
      ],
      "execution_count": 49,
      "outputs": [
        {
          "output_type": "stream",
          "text": [
            "Epoch 1/8\n",
            "3/3 - 1s - loss: 0.9686 - accuracy: 0.6471 - val_loss: 2.2561 - val_accuracy: 0.1818\n",
            "Epoch 2/8\n",
            "3/3 - 0s - loss: 0.8510 - accuracy: 0.6471 - val_loss: 1.8891 - val_accuracy: 0.0455\n",
            "Epoch 3/8\n",
            "3/3 - 0s - loss: 0.7298 - accuracy: 0.6471 - val_loss: 1.8340 - val_accuracy: 0.0909\n",
            "Epoch 4/8\n",
            "3/3 - 0s - loss: 0.6611 - accuracy: 0.6471 - val_loss: 1.8224 - val_accuracy: 0.4545\n",
            "Epoch 5/8\n",
            "3/3 - 0s - loss: 0.6327 - accuracy: 0.6706 - val_loss: 1.8596 - val_accuracy: 0.5000\n",
            "Epoch 6/8\n",
            "3/3 - 0s - loss: 0.6006 - accuracy: 0.7412 - val_loss: 1.8952 - val_accuracy: 0.5000\n",
            "Epoch 7/8\n",
            "3/3 - 0s - loss: 0.5902 - accuracy: 0.6941 - val_loss: 1.8883 - val_accuracy: 0.5000\n",
            "Epoch 8/8\n",
            "3/3 - 0s - loss: 0.5698 - accuracy: 0.7059 - val_loss: 1.8556 - val_accuracy: 0.5000\n"
          ],
          "name": "stdout"
        }
      ]
    },
    {
      "cell_type": "code",
      "metadata": {
        "id": "4hpqipZnP2iN",
        "colab_type": "code",
        "colab": {}
      },
      "source": [
        "#Merke: Keras mag keine float - Datentypen, dh. convert to integer\n",
        "#vgl. Error Tensorflow - ValueError: Failed to convert a NumPy array to a Tensor (Unsupported object type float)\n"
      ],
      "execution_count": null,
      "outputs": []
    },
    {
      "cell_type": "code",
      "metadata": {
        "id": "1Vk5IU5NP2iQ",
        "colab_type": "code",
        "colab": {
          "base_uri": "https://localhost:8080/",
          "height": 541
        },
        "outputId": "c0ccd614-155b-4808-ccc9-bdf378d9606b"
      },
      "source": [
        "#next plot loss and accuracy function\n",
        "import matplotlib.pyplot as plt\n",
        "def plot_graphs(history, string):\n",
        "    plt.plot(history.history[string])\n",
        "    plt.plot(history.history['val_'+string])\n",
        "    plt.xlabel(\"Epochs\")\n",
        "    plt.ylabel(string)\n",
        "    plt.legend([string, 'val_'+string])\n",
        "    plt.show()\n",
        "\n",
        "\n",
        "plot_graphs(history, \"accuracy\")\n",
        "plot_graphs(history, \"loss\")"
      ],
      "execution_count": 50,
      "outputs": [
        {
          "output_type": "display_data",
          "data": {
            "image/png": "[encoded data removed]",
            "text/plain": [
              "<Figure size 432x288 with 1 Axes>"
            ]
          },
          "metadata": {
            "tags": [],
            "needs_background": "light"
          }
        },
        {
          "output_type": "display_data",
          "data": {
            "image/png": "[encoded data removed]",
            "text/plain": [
              "<Figure size 432x288 with 1 Axes>"
            ]
          },
          "metadata": {
            "tags": [],
            "needs_background": "light"
          }
        }
      ]
    },
    {
      "cell_type": "code",
      "metadata": {
        "id": "4Z2pRoGoP2iU",
        "colab_type": "code",
        "colab": {
          "base_uri": "https://localhost:8080/",
          "height": 85
        },
        "outputId": "9a9f1be9-6293-461b-8f3c-e95445d7223c"
      },
      "source": [
        "#now lets make prediction\n",
        "# you must convert the text into numpy with the same steps mentioned before\n",
        "txt =[\"Unsere Prüfung hat mit Ausnahme der folgenden Einschränkung zu keinen Einwendungen geführt: Der Lagebericht enthält nicht die nach § 312 Abs. 3 S. 3 AktG erforderliche Schlusserklärung. Nach unserer Beurteilung aufgrund der bei der Prüfung gewonnenen Erkenntnisse entspricht der Jahresabschluss … von der Lage der Gesellschaft und stellt die Chancen und Risiken der zukünftigen Entwicklung zutreffend dar. Ohne diese Beurteilung weiter einzuschränken, weisen wir pflichtgemäß auf die Ausführungen des Insolvenzverwalters im Anhang und im Lagebericht zu dem am 1. August 2010 über die Gesellschaft eröffneten Insolvenzverfahren und den damit verbundenen insolvenzbedingten Besonderheiten der Rechnungslegung hin. Danach wurde der Jahresabschluss unter Abkehr vom Grundsatz der Fortführung der Unternehmenstätigkeit aufgestellt.\"]\n",
        "\n",
        "seq = tokenizer.texts_to_sequences(txt)\n",
        "padded = pad_sequences(seq, maxlen=max_length)\n",
        "pred = model.predict(padded)\n",
        "label2 = ['Hinweis', 'Ergänzung', 'Versagung', 'Bedingung', 'Nachtragsprüfung', 'Einschränkung']\n",
        "\n",
        "print(pred)\n",
        "print(np.argmax(pred))\n",
        "print(label2[np.argmax(pred)-1])"
      ],
      "execution_count": 51,
      "outputs": [
        {
          "output_type": "stream",
          "text": [
            "[[0.07884995 0.2522011  0.18876167 0.16219018 0.12904815 0.11087974\n",
            "  0.07806917]]\n",
            "1\n",
            "Hinweis\n"
          ],
          "name": "stdout"
        }
      ]
    },
    {
      "cell_type": "code",
      "metadata": {
        "id": "L_T8Z7k1P2iX",
        "colab_type": "code",
        "colab": {}
      },
      "source": [
        ""
      ],
      "execution_count": null,
      "outputs": []
    },
    {
      "cell_type": "code",
      "metadata": {
        "id": "JD6lEuH5P2iZ",
        "colab_type": "code",
        "colab": {}
      },
      "source": [
        ""
      ],
      "execution_count": null,
      "outputs": []
    }
  ]
}